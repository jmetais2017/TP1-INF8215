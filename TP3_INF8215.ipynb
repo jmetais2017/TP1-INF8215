{
 "cells": [
  {
   "cell_type": "markdown",
   "metadata": {
    "colab_type": "text",
    "id": "5fHWJhwOXGzh"
   },
   "source": [
    "# INF8215 - Intelligence artif.: méthodes et algorithmes \n",
    "## Automne 2019 - TP3 - Apprentissage machine \n",
    "### Membres de l'équipe\n",
    "    - Membre 1\n",
    "    - Membre 2\n",
    "    - Membre 3\n",
    "\n",
    "Nom d'équipe sur Kaggle: Nom_Dequipe\n",
    "\n"
   ]
  },
  {
   "cell_type": "markdown",
   "metadata": {
    "colab_type": "text",
    "id": "TmGvqtSVgfXi"
   },
   "source": [
    "## Directives de remise\n",
    "Le travail sera réalisé avec la  même équipe que pour les TPs précédents. Vous remettrez ce fichier nommé TP3\\_NomDuMembre1\\_NomDuMembre2\\_NomDuMembre3.ipynb et vos fichiers de soumission csv dans la boîte de remise sur moodle. \n",
    "\n",
    "Tout devra être remis avant le **13 décembre à 23h55**. Tout travail en retard sera pénalisé d’une valeur de 10\\% par jour de retard.\n",
    "\n",
    "## Barème\n",
    "Partie 1: 9 points\n",
    "\n",
    "Partie 2: 9 points\n",
    "\n",
    "Partie 3: 2 points\n",
    "\n",
    "Bonus : 2 points\n",
    "\n",
    "Pour un total de 22 points possibles sur 20 points.\n"
   ]
  },
  {
   "cell_type": "markdown",
   "metadata": {
    "colab_type": "text",
    "id": "P1et8f3nXGzk"
   },
   "source": [
    "## Apprentissage machine\n",
    "L'apprentissage machine est un domaine de plus en plus exploré et exploité. Pouvoir faire des prédictions en se basant sur des données ouvre la porte à plein de possibilités pour faciliter la vie des gens. Par exemple, un modèle pourrait prédire si un patient souffre ou non d'une maladie en se basant sur des mesures de santé.\n",
    "\n",
    "### But\n",
    "Le but de ce TP est de vous donner un aperçu du déroulement général d'un projet de machine learning tout en vous familiarisant avec des librairies python adaptées.\n",
    "\n",
    "Dans la première partie, vous implémenterez un algorithme de classification multiclasse appelé **softmax regression** à l'aide uniquement de la bibliothèque **numpy** et l'intégrerez à la bibliothèque **scikit-learn**.\n",
    "\n",
    "Dans la deuxième partie, vous prendrez connaissance du **dataset** utilisé pour ce projet. Et vous serez amenés à effectuer le **preprocessing** de ces données pour qu'elles soient utilisables dans les algorithmes de machine learning classiques. Vous utiliserez les bibliothèques **pandas** et **scikit-learn**.\n",
    "\n",
    "Enfin, dans la troisième partie, vous comparerez l'efficacité du modèle que vous avez implémenté avec d'autres modèles déjà implémentés dans **sklearn**. Puis vous tenterez d'améliorer les performances de l'algorithme sélectionné.\n",
    "\n",
    "La dernière partie du TP est de soumettre vos prédictions sur **Kaggle**. Vous devez créer un compte et formez une équipe sur Kaggle: https://www.kaggle.com/. La compétition pour le TP se trouve à l'adresse suivante: https://www.kaggle.com/t/7e5ae1ae92d14e06b2560c9ac5602bf6.\n",
    "\n",
    "### Installation\n",
    "\n",
    "Pour installer **pandas** et **scikit-learn** le plus simple est de télécharger et d'installer **Anaconda**. Cet environnement python regroupe les packages les plus utilisés pour le calcul scientifique et la science des données. Vous pouvez aussi installer directement les packages avec pip.\n",
    "\n",
    "Assurez-vous d'avoir au moins la version **20.0** de **scikit-learn**.\n",
    "\n",
    "Vous trouverez la distribution d'anaconda ici : https://www.anaconda.com/download/ .\n"
   ]
  },
  {
   "cell_type": "markdown",
   "metadata": {
    "colab_type": "text",
    "id": "LYyOL7QAXGzm"
   },
   "source": [
    "## Bonus 1: Compétition (2 points)\n",
    "\n",
    "Lorsque vous soumettez vos résultats sur Kaggle, vous obtiendrez votre performance en terme de **Mean F-Score**. Votre score sera affiché sur le leaderboard publique de Kaggle.  Le top 10 sur le leaderboard privée recevront un bonus de 2pts. Vous pouvez soumettre plusieurs fois et choisir 2 soumissions pour être pris en compte pour le classement final. Attention de ne pas overfit sur les données de tests du classement publique."
   ]
  },
  {
   "cell_type": "markdown",
   "metadata": {
    "colab_type": "text",
    "id": "517JwzlPXGzp"
   },
   "source": [
    "# 1. Softmax Regression (12 points)\n",
    "\n",
    "Dans cette partie vous implémenterez **softmax regression** la généralisation de **logistic regression** qui permet d'effectuer de la classification pour un nombre de classe supérieur à 2.\n",
    "\n",
    "**Pour cet exercice, la contrainte est d'utiliser uniquement la bibliothèque numpy**\n",
    "\n",
    "## Encapsulation avec sklearn\n",
    "\n",
    "La classe **SoftmaxClassifier** hérite des classes **BaseEstimator** et **ClassifierMixin** de **scikit-learn** ce qui nous permettra d'utiliser facilement avec notre classifier les outils fournis par scikit-learn dans la suite du TP.\n",
    "\n",
    "Pour la compatibilité, le classifier doit implémenter obligatoirement les méthodes:\n",
    "\n",
    "* **fit**: responsable de l'entraînement du modèle\n",
    "* **predict_proba**: permet de prédire la probabilité de chaque classe pour chaque exemple du dataset fourni.\n",
    "* **predict**: permet de prédire la classe pour chaque exemple du dataset fourni.\n",
    "* **score**: permet de quantifier l'écart entre les classes prédites et les classes réelles pour le dataset fourni\n",
    "* **fit_predict**: permet de faire un fit et retourne les prédictions faites avec cet ensemble.\n",
    "\n",
    "\n",
    "## Train/Test set:\n",
    "\n",
    "Quand on veut tester les performances de l'apprentissage d'un algorithme de machine learning, on **ne le teste pas sur les données utilisées pour l'apprentissage**.\n",
    "\n",
    "En effet, ce qui nous intéresse c'est que notre algorithme soit **capable de généraliser** ses prédictions à des données qu'il n'a **jamais vu**.\n",
    "\n",
    "Pour illustrer, si on teste un algorithme sur les données d'entrainement, on teste sa capacité à **apprendre par coeur** le dataset et non à **généraliser**.\n",
    "\n",
    "Par conséquent, quand on reçoit un nouveau dataset, la première chose à faire et de le **diviser en deux parties**: un ensemble d'**entraînement** (**70-80%** du dataset) et un ensemble de **test**(**20-30%** du dataset).\n",
    "\n",
    "Tous les algorithmes de **traitement des données** et d'apprentissage devront être appris uniquement sur l'ensemble d'entraînement et appliqués ensuite sur l'ensemble de test.\n",
    "\n",
    "Cela garantit l'absence de connaissances préalables de l'ensemble de test lors de l'entrainement.\n",
    "\n",
    "## Gradient descent\n",
    "\n",
    "La descente de gradient est un algorithme qui permet trouver la solution optimale d'un certains nombre de problèmes. Le principe est le suivant: on définit une **fonction de coût J**  qui caractérise le problème.\n",
    "Cette fonction dépend d'un ensemble de paramètres $\\theta$. La descente de gradient cherche à **minimiser** la fonction de coût en **modifiant itérativement** les paramètres.\n",
    "\n",
    "### Gradient\n",
    "\n",
    "Le gradient de la fonction de coût pour un $\\theta$ donné, correspond à la direction dans laquelle il faut modifier $\\theta$ pour augmenter la valeur de la fonction de coût. Cela correspond donc à la dérivée de la fonction de coût.\n",
    "La fonction de coût est minimale quand le gradient est nul.\n",
    "\n",
    "Concrètement, on initialize $\\theta$ aléatoirement, et on effectue à chaque itération un pas pour réduire la fonction de coût jusqu'à convergence de l'algorithme à un minimum.\n",
    "\n",
    "### Learning rate\n",
    "\n",
    "Le taux d'apprentissage correspond à la taille du pas que l'on va effectuer dans la direction du gradient.\n",
    "Plus il est grand, plus la convergence est rapide mais il y a un risque que l'algorithme diverge.\n",
    "\n",
    "Plus il est petit, plus la convergence est lente.\n",
    "\n",
    "### Batch gradient descent\n",
    "\n",
    "Il existe plusieurs algorithmes de descente de gradient. Nous utiliserons Batch gradient descent.\n",
    "\n",
    "Dans cet algorithme, avant de mettre à jour $\\theta$, on calcule les gradients sur l'ensemble des exemples d'entraînement.\n",
    "\n",
    "### Epoch\n",
    "\n",
    "Il s'agit d'un pas de la descente de gradient, soit une mise à jour de gradient.\n",
    "\n",
    "### Bias/Variance tradeoff\n",
    "\n",
    "Lorsqu'on entraine un algorithme de machine learning on cherche un équilibre entre **biais** et **variance**.\n",
    "\n",
    "Un modèle avec un **biais fort**, est un modèle qui est **trop simple** pour la structure donnée considérée (modèle linéaire pour données quadratiques), cela limite la capacité du modèle à généraliser. On appelle aussi le biais **underfitting**.\n",
    "\n",
    "Un modèle avec une **variance élevée** signifie qu'il est sensible aux petites variations dans les données d'entrainement, cela correspond à l'**overfitting**, c'est-à-dire que le modèle est trop proche de la structure de l'ensemble d'entrainement ce qui **limite sa capacité à généraliser**.\n",
    "\n",
    "Un modèle avec un **biais important** aura une **mauvaise performance** sur l'ensemble d'**entraînement**.\n",
    "Un modèle avec une **variance importante** aura une performance bien **moins bonne** sur l'ensemble de **test** que sur l'ensemble d'**entrainement**.\n",
    "\n",
    "Le classifier **SoftmaxRegression** contient les champs suivants:\n",
    "\n",
    "- `lr` : le rythme d'apprentissage pour la mise à jour des points lors de la descente du gradient;\n",
    "- `n_epochs`: le nombre d'itérations;\n",
    "- `eps`: le seuil pour garder les probabilités dans l'intervalle [self.eps;1.-self.eps];\n",
    "- `threshold`: seuil d'arrèt pour le early stopping;\n",
    "- `early_stopping`: active le early stopping\n",
    "- `nb_features`: le nombre d'attributs pour chaque instance\n",
    "- `nb_classes`: le nombre de classes possible pour le dataset\n",
    "- `theta_`:  la matrice de poids"
   ]
  },
  {
   "cell_type": "code",
   "execution_count": 1,
   "metadata": {
    "colab": {},
    "colab_type": "code",
    "id": "UhACgVBXAcUW"
   },
   "outputs": [],
   "source": [
    "from sklearn.base import BaseEstimator, ClassifierMixin\n",
    "import numpy as np\n",
    "\n",
    "\n",
    "class SoftmaxClassifier(BaseEstimator, ClassifierMixin):  \n",
    "\n",
    "    def __init__(self, lr = 0.1, alpha = 100, n_epochs = 1000, eps = 1.0e-5,threshold = 1.0e-10 , early_stopping = True):\n",
    "       \n",
    "        self.lr = lr \n",
    "        self.alpha = alpha\n",
    "        self.n_epochs = n_epochs\n",
    "        self.eps = eps\n",
    "        self.threshold = threshold\n",
    "        self.early_stopping = early_stopping\n",
    "        \n",
    "\n",
    "\n",
    "    \"\"\"\n",
    "        In:\n",
    "        X : l'ensemble d'exemple de taille nb_example x nb_features\n",
    "        y : l'ensemble d'étiquette de taille nb_example x 1\n",
    "\n",
    "        Principe:\n",
    "        Initialiser la matrice de poids\n",
    "        Ajouter une colonne de bias à X\n",
    "        Pour chaque epoch\n",
    "            calculer les probabilités\n",
    "            calculer le log loss\n",
    "            calculer le gradient\n",
    "            mettre à jouer les poids\n",
    "            sauvegarder le loss\n",
    "            tester pour early stopping\n",
    "\n",
    "        Out:\n",
    "        self, in sklearn the fit method returns the object itself\n",
    "    \"\"\"\n",
    "\n",
    "    def fit(self, X, y=None):\n",
    "        \n",
    "        prev_loss = np.inf\n",
    "        self.losses_ = []\n",
    "        \n",
    "        # nombre de feature = nombre de colonne de X\n",
    "        self.nb_feature = np.size(X,1)\n",
    "        \n",
    "        #nombre de classe = nombre de valeurs différentes dans y\n",
    "        self.nb_classes = len(np.unique(y)) \n",
    "        \n",
    "        # on créé X_bias en ajoutant une colonne de 1 à X\n",
    "        X_bias = np.append( np.ones((np.size(X,0), 1)) , X, 1)\n",
    "        \n",
    "        # on instancie theta comme matrice de taille (nb_de_features+1 x nb_de_classe) \n",
    "        self.theta_  = np.random.rand(np.size(X_bias,1),self.nb_classes)\n",
    "        \n",
    "\n",
    "        for epoch in range(self.n_epochs):\n",
    "            \n",
    "            probabilities = self.predict_proba(X)\n",
    "            \n",
    "            loss = self._cost_function(probabilities,y)\n",
    "            \n",
    "            gradient = self._get_gradient(X_bias,y, probabilities)\n",
    "            \n",
    "            self.theta_ = self.theta_ - self.lr * gradient\n",
    "            \n",
    "            self.losses_.append(loss)\n",
    "            \n",
    "            if self.early_stopping:\n",
    "                cost_difference = abs(self.losses_[epoch] - self.losses_[epoch-1])\n",
    "                if epoch>0 and cost_difference < self.threshold:\n",
    "                    break\n",
    "            \n",
    "\n",
    "        return self\n",
    "\n",
    "\n",
    "    def predict_proba(self, X, y=None):\n",
    "        try:\n",
    "            getattr(self, \"theta_\")\n",
    "        except AttributeError:\n",
    "            raise RuntimeError(\"You must train classifer before predicting data!\")\n",
    "        \n",
    "        # on créé un array de 1 de dim (nb_d'exemples x 1) = [1,1,1,...,1]\n",
    "        one_column = np.ones((np.size(X,0), 1))\n",
    "        \n",
    "        # on créé X_bias en ajoutant l'array de 1 à X\n",
    "        X_bias = np.append(one_column, X, 1)\n",
    "        \n",
    "        prediction = X_bias.dot(self.theta_)\n",
    "        \n",
    "        for i in range(np.size(prediction,0)):\n",
    "            prediction[i]=self._softmax(prediction[i])\n",
    "        \n",
    "        return prediction\n",
    "\n",
    "    \n",
    "    def predict(self, X, y=None):\n",
    "        try:\n",
    "            getattr(self, \"theta_\")\n",
    "        except AttributeError:\n",
    "            raise RuntimeError(\"You must train classifer before predicting data!\")\n",
    "        \n",
    "        #on calcule les probas associée à chaque classe \n",
    "        classes_probability = self.predict_proba(X,y)\n",
    "        \n",
    "        #on renvoie la classe ayant la proba la plus élevée\n",
    "        class_prediction = np.argmax(classes_probability, axis=1)\n",
    "        \n",
    "        return class_prediction\n",
    "    \n",
    "    \n",
    "    def fit_predict(self, X, y=None):\n",
    "        self.fit(X, y)\n",
    "        return self.predict(X,y)\n",
    " \n",
    "\n",
    "    def score(self, X, y=None):\n",
    "        #on calcule les probas associée à chaque classe \n",
    "        classes_probability = self.predict_proba(X,y)\n",
    "        \n",
    "        return self._cost_function(classes_probability, y)\n",
    "    \n",
    "    \n",
    "    def _cost_function(self,probabilities, y ):\n",
    "        \n",
    "        m = np.size(probabilities,0)\n",
    "        \n",
    "        # restreint les valeurs des probas à l'intervalle [eps, 1.-eps]\n",
    "        minimum = self.eps\n",
    "        maximum = 1.- self.eps\n",
    "        probabilities[probabilities > maximum ] = maximum\n",
    "        probabilities[probabilities < minimum ] = minimum\n",
    "        \n",
    "        yohe = self._one_hot(y)\n",
    "        \n",
    "        J = (-1/m)*np.sum(np.log(probabilities).dot(np.transpose(yohe)))\n",
    "        \n",
    "        return J\n",
    "\n",
    "    def _one_hot(self,y):\n",
    "        \n",
    "        # on créé un matrice de zéros de dimemsion (nb_d'exemple x nombre_de_classe)\n",
    "        yohe = np.zeros((np.size(y,0),self.nb_classes))\n",
    "        \n",
    "        for i in range(len(y)):\n",
    "            # met des 1 à la colonne correspondant à la classe du l'exemple\n",
    "            yohe[i,y[i]] = 1  \n",
    "        return yohe\n",
    "\n",
    "    \n",
    "    def _softmax(self,z):\n",
    "        # on crée un array contenant les exponentielles des valeurs de z, [exp(z1),exp(z2),...,exp(zk)]\n",
    "        probability_vector = np.exp(z)\n",
    "        # on divise chaque élement de l'array par la somme de ses éléments\n",
    "        probability_vector = np.divide(probability_vector,np.sum(probability_vector))\n",
    "        return probability_vector\n",
    "\n",
    "\n",
    "    def _get_gradient(self,X_bias,y, probas):\n",
    "        \n",
    "        m = np.size(X_bias,0)\n",
    "        \n",
    "        yohe = self._one_hot(y)\n",
    "        \n",
    "        gradient = (1/m)*np.transpose(X_bias).dot(probas-yohe)\n",
    "        \n",
    "        return gradient\n",
    "    \n",
    "    "
   ]
  },
  {
   "cell_type": "code",
   "execution_count": 2,
   "metadata": {},
   "outputs": [
    {
     "data": {
      "text/plain": [
       "'\\n# Mes tests pour vérifier que mes fonctions sont pas foireuses\\n\\na = np.array([[1,2,3,4],[5,15,4,7]])\\nX_bias = np.append(np.ones((np.size(a,0), 1)), a, 1)        \\ntheta_  = np.random.rand(np.size(X_bias,1),5)\\nX_bias.dot(theta_)\\n\\nb = np.exp(a)\\n\\na = np.divide(a,4)\\n\\na1 = np.array([1,2,3,4])\\narray = np.exp(a1)\\narray = np.divide(array,np.sum(array))\\nnp.sum(array) == 1\\n\\na = np.array([[1.,2,3,4],[5.,15,4,7]])\\nnp.argmax(a,axis=1)\\n\\na = np.array([[1.,2,3,4],[5.,15,2,7],[6,5,4,3],[12,23,4,8],[12,23,4,8]])\\ny = np.array([1,0,3,2,1])\\n#yohe = _one_hot(y)\\nm = np.size(a,0)\\n#J = (-1/m)*np.sum(a.dot(np.transpose(yohe)))\\n\\na = np.array([[1,2,3,4],[5,15,4,7]])\\nb = np.array([[1,1,3,4],[5,15,4,7]])\\n\\na = np.array([1.,1,1,1])\\narray = np.divide(a,np.sum(a))\\n'"
      ]
     },
     "execution_count": 2,
     "metadata": {},
     "output_type": "execute_result"
    }
   ],
   "source": [
    "\"\"\"\n",
    "# Mes tests pour vérifier que mes fonctions sont pas foireuses\n",
    "\n",
    "a = np.array([[1,2,3,4],[5,15,4,7]])\n",
    "X_bias = np.append(np.ones((np.size(a,0), 1)), a, 1)        \n",
    "theta_  = np.random.rand(np.size(X_bias,1),5)\n",
    "X_bias.dot(theta_)\n",
    "\n",
    "b = np.exp(a)\n",
    "\n",
    "a = np.divide(a,4)\n",
    "\n",
    "a1 = np.array([1,2,3,4])\n",
    "array = np.exp(a1)\n",
    "array = np.divide(array,np.sum(array))\n",
    "np.sum(array) == 1\n",
    "\n",
    "a = np.array([[1.,2,3,4],[5.,15,4,7]])\n",
    "np.argmax(a,axis=1)\n",
    "\n",
    "a = np.array([[1.,2,3,4],[5.,15,2,7],[6,5,4,3],[12,23,4,8],[12,23,4,8]])\n",
    "y = np.array([1,0,3,2,1])\n",
    "#yohe = _one_hot(y)\n",
    "m = np.size(a,0)\n",
    "#J = (-1/m)*np.sum(a.dot(np.transpose(yohe)))\n",
    "\n",
    "a = np.array([[1,2,3,4],[5,15,4,7]])\n",
    "b = np.array([[1,1,3,4],[5,15,4,7]])\n",
    "\n",
    "a = np.array([1.,1,1,1])\n",
    "array = np.divide(a,np.sum(a))\n",
    "\"\"\""
   ]
  },
  {
   "cell_type": "markdown",
   "metadata": {
    "colab_type": "text",
    "id": "Yv83c1sWXGzq"
   },
   "source": [
    "### 1.1 One-hot-encoding (1 point)\n",
    "\n",
    "En machine learning pour représenter un vecteur de données catégoriques, on utilise le one-hot encoding.\n",
    "\n",
    "Pour un vecteur comportant 5 exemples et 3 catégories différentes, on le représente sous forme d'une matrice de taille 5 par 3. Cette matrice est entièrement remplie de 0 sauf à l'indice correspondant au numéro de la classe pour chaque exemple.\n",
    "\n",
    "\n",
    "Par exemple\n",
    "$ y = \\left(\\begin{array}{cc} \n",
    "0 \\\\\n",
    "0 \\\\\n",
    "1 \\\\\n",
    "2 \\\\\n",
    "1 \\\\\n",
    "\\end{array}\\right) $\n",
    "\n",
    "devient:\n",
    "\n",
    "$ yohe =  \\left(\\begin{array}{cc} \n",
    "1. & 0. & 0.\\\\\n",
    "1. & 0. & 0.\\\\\n",
    "0. & 1. & 0.\\\\\n",
    "0. & 0. & 1.\\\\\n",
    "0. & 1. & 0.\\\\\n",
    "\\end{array}\\right) $\n",
    "\n",
    "\n",
    "#### Implémentation\n",
    "1. Implémentez  la fonction  *`_one_hot()`*  dans SoftmaxClassifier. \n",
    "\n",
    "Utilisez la fonction _testOneHot_ pour vérifier votre implémentation de la fonction. Vous devriez avoir ces résultats:\n",
    "```\n",
    "Premier test\n",
    "[[1. 0. 0. 0. 0. 0.]\n",
    " [0. 1. 0. 0. 0. 0.]\n",
    " [0. 0. 1. 0. 0. 0.]\n",
    " [0. 0. 0. 1. 0. 0.]\n",
    " [0. 0. 0. 0. 1. 0.]\n",
    " [0. 0. 0. 0. 0. 1.]]\n",
    "\n",
    "Deuxième test\n",
    "[[0. 0. 0. 0. 0. 1.]\n",
    " [0. 0. 0. 0. 0. 1.]\n",
    " [0. 0. 0. 0. 0. 1.]\n",
    " [0. 0. 0. 0. 0. 1.]]\n",
    "\n",
    " Troisième test\n",
    "[[1. 0. 0. 0. 0. 0.]\n",
    " [1. 0. 0. 0. 0. 0.]\n",
    " [1. 0. 0. 0. 0. 0.]\n",
    " [1. 0. 0. 0. 0. 0.]]\n",
    " ```"
   ]
  },
  {
   "cell_type": "code",
   "execution_count": 3,
   "metadata": {
    "colab": {
     "base_uri": "https://localhost:8080/",
     "height": 336
    },
    "colab_type": "code",
    "executionInfo": {
     "elapsed": 607,
     "status": "ok",
     "timestamp": 1572273158769,
     "user": {
      "displayName": "Kim Thuyen Ton",
      "photoUrl": "https://lh3.googleusercontent.com/a-/AAuE7mBg1xy2-8526x-b1HLCbT16SZlMsjmtKfyoHRgghw=s64",
      "userId": "10674693358177584608"
     },
     "user_tz": 240
    },
    "id": "HEwBsNVsjvfs",
    "outputId": "aedf1752-21aa-49b8-e31b-8892f3f5e2e6"
   },
   "outputs": [
    {
     "name": "stdout",
     "output_type": "stream",
     "text": [
      "Premier test\n",
      "[[1. 0. 0. 0. 0. 0.]\n",
      " [0. 1. 0. 0. 0. 0.]\n",
      " [0. 0. 1. 0. 0. 0.]\n",
      " [0. 0. 0. 1. 0. 0.]\n",
      " [0. 0. 0. 0. 1. 0.]\n",
      " [0. 0. 0. 0. 0. 1.]]\n",
      "\n",
      "Deuxième test\n",
      "[[0. 0. 0. 0. 0. 1.]\n",
      " [0. 0. 0. 0. 0. 1.]\n",
      " [0. 0. 0. 0. 0. 1.]\n",
      " [0. 0. 0. 0. 0. 1.]]\n",
      "\n",
      "Troisième test\n",
      "[[1. 0. 0. 0. 0. 0.]\n",
      " [1. 0. 0. 0. 0. 0.]\n",
      " [1. 0. 0. 0. 0. 0.]\n",
      " [1. 0. 0. 0. 0. 0.]]\n"
     ]
    }
   ],
   "source": [
    "def testOneHot():\n",
    "    softmax = SoftmaxClassifier()\n",
    "    softmax.nb_classes = 6 # les classes possibles sont donc 0-5\n",
    "\n",
    "    y1= np.array([0,1,2,3,4,5])\n",
    "    y1.shape = (6,1)\n",
    "    print('Premier test')\n",
    "    print(softmax._one_hot(y1))\n",
    "\n",
    "    y2 = np.array([5,5,5,5])\n",
    "    y2.shape = (4,1)\n",
    "    print('\\nDeuxième test')\n",
    "    print(softmax._one_hot(y2))\n",
    "\n",
    "    y3 = np.array([0,0,0,0])\n",
    "    y3.shape = (4,1)\n",
    "    print('\\nTroisième test')\n",
    "    print(softmax._one_hot(y3))\n",
    "\n",
    "\n",
    "testOneHot()"
   ]
  },
  {
   "cell_type": "markdown",
   "metadata": {
    "colab_type": "text",
    "id": "vwxvqYj4XGzu"
   },
   "source": [
    "### 1.2 Matrice de poids (1 point)\n",
    "\n",
    "Soit $ X_{m * n} $ la matrice d'exemple et $ \\Theta _{n*K} $ la matrice de poids avec:\n",
    "\n",
    "* **m** le nombre d'exemples\n",
    "* **n** le nombre de features\n",
    "* **k** le nombre de classes\n",
    "\n",
    "Il est d'usage d'ajouter une colonne supplémentaire à X. Cette colonne est remplie de 1 et se trouve au début de la matrice. Elle représente un biais. Pour prendre en compte ce changement, il faut aussi rajouter une ligne à la matrice $\\Theta$.\n",
    "\n",
    "On obtient X_bias$_{m*(n+1)}$ et $ \\Theta _{(n+1)*K} $\n",
    "\n",
    "\n",
    "Intuitivement, à chaque classe K est associée une colonne de $\\theta$.\n",
    "\n",
    "On note $\\theta_k$ le vecteur de dimension n+1 la colonne de poids associée à la prédiction de la classe k.\n",
    "\n",
    "$\\Theta$ = [$\\theta_0$,$\\theta_1$... $\\theta_k$]\n",
    "\n",
    "Ainsi $ z = x * \\Theta $ donne un vecteur de dimension K qui correspond aux **logits** associés à x pour chacune des classes.\n",
    "\n",
    "#### Implémentation\n",
    "1. Instanciez X_bias dans les fonctions  *`fit()`* et `predict_proba()`.\n",
    "2. initialisez $\\Theta$ aléatoirement dans la fonction  *`fit()`*.\n",
    "3. Instanciez aussi le nombre de features et de classe de SoftmaxClassifier dans la fonction  *`fit()`*.\n",
    "\n",
    "**Notez que votre fonction fit n'est pas encore complète.**"
   ]
  },
  {
   "cell_type": "markdown",
   "metadata": {
    "colab_type": "text",
    "id": "6UTIxaGIXGzz"
   },
   "source": [
    "### 1.3 Softmax (1 point)\n",
    "\n",
    "On veut convertir le vecteur de logits **z** obtenu dans la partie précédente, en un **vecteur de probabilité**.\n",
    "\n",
    "Pour cela on définit la **fonction softmax**:\n",
    "\n",
    "$$ \\hat{p_x}^k = softmax(z)_k = \\frac{exp(z_k)}{\\sum_{\\substack{1<j<K}} exp(z_j)} $$\n",
    "\n",
    "Intuitivement, pour un logit de z, $z_k$, on prend l'exponentielle de cette valeur et on la divise par la somme des exponentielles de chaque logit du vecteur **z**. On obtient  $\\hat{p_x}^k$ la probabilité que l'exemple **x** appartienne à la classe **k**.\n",
    "\n",
    "On réitère l'opération pour chaque logit du vecteur **z**. \n",
    "\n",
    "On obtient ainsi un vecteur de probabilités $\\hat{p_x}$ pour un exemple **x**. \n",
    "\n",
    "La division permet de rendre la somme des termes du vecteur $\\hat{p_x}$ égale à 1 ce qui est indispensable dans le cadre des probabilités.\n",
    "\n",
    "#### Implémentation\n",
    "1. Implémentez  la fonction  *`_softmax()`*  dans SoftmaxClassifier. "
   ]
  },
  {
   "cell_type": "markdown",
   "metadata": {
    "colab_type": "text",
    "id": "g5_N31uPXGz2"
   },
   "source": [
    "### 1.4 Prédictions (1 point)\n",
    "\n",
    "Maintenant que vous avez implémentée la fonction **_softmax**, vous pouvez implémenter  les fonctions  **predict_proba** et **predict**  dans SoftmaxClassifier. \n",
    "\n",
    "#### Implémentation\n",
    "1. Implémenter la fonction *`predict_proba()`* de la classe SoftmaxClassifier. Cette fonction retourne les probabilités associées à chaque classe pour chacune des instances à prédire.\n",
    "\n",
    "2. Implémenter la fonction *`predict()`* de la classe SoftmaxClassifier. Cette fonction retourne la classe avec la plus grande probabilité pour chacunes des intances à prédire."
   ]
  },
  {
   "cell_type": "markdown",
   "metadata": {
    "colab_type": "text",
    "id": "cj5Ghd5jXGz6"
   },
   "source": [
    "### 1.5 Fonction de coût Log loss (2 points)\n",
    "\n",
    "Soit la fonction de coût log loss (ou cross entropy):\n",
    "\n",
    "$$ J( \\Theta) = \\frac{-1}{m}\\sum_{\\substack{1<i<m}} \\sum_{\\substack{1<k<K}} y_k^i log( \\hat{p_k}^i ) $$\n",
    "\n",
    "avec:\n",
    "* **K** le nombre de classes\n",
    "* **m** le nombre d'exemples dans les données\n",
    "* $ \\hat{p_k}^i  $  la probabilité que l'exemple i soit de la classe k\n",
    "* $y_k^i$ vaut 1 si la classe cible de l'exemple i est k, 0 sinon\n",
    "\n",
    "Le coût correspond donc à la moyenne multiplié par -1 des sommes des multiplications des probabilités pour chaque classe pour chaque élement. Autrement dit, plus le coût est petit, plus les prédictions correspondent bien aux étiquettes.\n",
    "\n",
    "\n",
    "**Détail d'implémentation:** La fonction n'est pas définie pour des valeurs de probabilité de 0 ou 1. Il faut donc s'assurer que étant donné $\\epsilon$, les probabilités sont comprises dans [$\\epsilon$, 1. - $\\epsilon$].\n",
    "#### Implémentation\n",
    "1. Implémentez  la fonction  *`_cost_function()`*  dans SoftmaxClassifier en prenant en utilisant la variable self.eps. Utilisez le format one-hot pour représenter $y_k^i$.\n",
    "2.  Utilisez *`_cost_function()`* pour calculer la variable *`loss`* dans la fonction `fit()`"
   ]
  },
  {
   "cell_type": "markdown",
   "metadata": {
    "colab_type": "text",
    "id": "vODCJbRaXGz-"
   },
   "source": [
    "### 1.6 Gradient de la fonction de coût (1 point)\n",
    "\n",
    "Le **gradient de J** par rapport à la classe k (par rapport à $\\theta_k$) est :\n",
    "\n",
    "\n",
    "$$ \\Delta_{\\theta_k}J( \\Theta) = \\frac{1}{m} \\sum_{\\substack{1<i<m}}( \\hat{p_k}^i - y_k^i)x^i  $$\n",
    "\n",
    "avec:\n",
    "* **K** le nombre de classes\n",
    "* **m** le nombre d'exemples dans les données\n",
    "* $ \\hat{p_k}^i  $  la probabilité que l'exemple i soit de la classe k\n",
    "* $y_k^i$ vaut 1 si la classe cible de l'exemple i est k, 0 sinon\n",
    "\n",
    "Sous **forme matricielle**, on peut écrire le **gradient de J par rapport à $\\Theta$**:\n",
    "$$ \\Delta_J( \\Theta) = \\frac{1}{m} X_{bias}^T *( \\hat{p} - y_{ohe}) $$\n",
    "\n",
    "avec:\n",
    "* $\\hat{p}$ la matrice de probabilité prédite pour chaque example et pour chaque classe\n",
    "* $y_{ohe}$ la version one-hot de y\n",
    "* $X_{bias}^T$  la matrice transposée de $X_{bias}$\n",
    "* **\\*** le produit matriciel\n",
    "\n",
    "#### Implémentation\n",
    "1. Implémentez  la fonction  *`_get_gradient()`*  dans SoftmaxClassifier en vous basant sur la forme matricielle du gradient."
   ]
  },
  {
   "cell_type": "markdown",
   "metadata": {
    "colab_type": "text",
    "id": "Y5EOpj9TXG0B"
   },
   "source": [
    "### 1.7 Mise à jour des poids (1 point)\n",
    "\n",
    "Quand le gradient a été calculé, il faut mettre à jour les poids avec ces gradients.\n",
    "\n",
    "$$ \\Theta  = \\Theta - \\gamma \\Delta J( \\Theta) $$\n",
    "\n",
    "\n",
    "avec:\n",
    "* $\\Theta$ la matrice de poids\n",
    "* $\\gamma$  le taux d'apprentissage\n",
    "* $\\Delta J( \\Theta)$ le gradient de $J( \\Theta)$ selon $\\Theta$\n",
    "\n",
    "#### Implémentation\n",
    "1. Mettez à jour la variable **self.theta_** dans la fonction `fit()`  dans SoftmaxClassifier."
   ]
  },
  {
   "cell_type": "markdown",
   "metadata": {
    "colab_type": "text",
    "id": "9QrP9uYPXG0I"
   },
   "source": [
    "### 1.8 Évaluation (1 point)\n",
    "\n",
    "Quand on veut évaluer la performance du modèle **après entrainement**, on utilise la fonction de coût. Autrement dit, on compare les prédictions avec les vrais valeurs et calcule un score.\n",
    "\n",
    "#### Implémentation\n",
    "1. Implémentez la fonction `score()` qui permet d'évaluer la qualité de la prédiction **après entrainement** dans SoftmaxClassifier. Elle utilise le log loss comme métrique."
   ]
  },
  {
   "cell_type": "markdown",
   "metadata": {
    "colab_type": "text",
    "id": "Ewh3I_jEXG0N"
   },
   "source": [
    "### 1.9 Early stopping (1 point)\n",
    "\n",
    "Un trop grand nombre d'**epoch** peut résulter en **overfitting**.\n",
    "Pour pallier à ce problème, on peut utiliser le mécanisme d'**early stopping**.\n",
    "Il s'agit d'arrêter l'entraînement si la différence de la fonction de coût entre deux **epochs consécutives** est inférieure à un **seuil**.\n",
    "\n",
    "\n",
    "\n",
    "\n",
    "#### Implémentation\n",
    "\n",
    "1. Ajouter le mécanisme d'**early stopping**  quand le booléen **self.early_stopping** est vrai dans la fonction `fit()`. Le seuil est donné par la variable **self.threshold**."
   ]
  },
  {
   "cell_type": "markdown",
   "metadata": {
    "colab_type": "text",
    "id": "JdNEVRveXG0Q"
   },
   "source": [
    "### 1.10 Test de la solution (2 points)\n",
    "\n",
    "Le code ci-dessous importe le dataset de classification multiclasse **iris** disponible sur sklearn. Les données sont divisées en deux parties, l'ensemble d'entraînement et l'ensemble de test, puis elles sont normalisées.\n",
    "\n",
    "Le classifier est entrainé sur l'ensemble d'entrainement et testé sur l'ensemble de test.\n",
    "\n",
    "Le but de cette partie est juste de vérifier votre implémentation **quand vous êtes sûrs que votre code fonctionne**."
   ]
  },
  {
   "cell_type": "code",
   "execution_count": 4,
   "metadata": {
    "colab": {},
    "colab_type": "code",
    "id": "1-2UipMRXG0R"
   },
   "outputs": [],
   "source": [
    "import numpy as np\n",
    "from sklearn.datasets import load_iris\n",
    "from sklearn.model_selection import train_test_split\n",
    "from sklearn.preprocessing import StandardScaler\n",
    "\n",
    "# load dataset\n",
    "data,target =load_iris().data,load_iris().target\n",
    "\n",
    "# split data in train/test sets\n",
    "X_train, X_test, y_train, y_test = train_test_split( data, target, test_size=0.33, random_state=42)\n",
    "\n",
    "# standardize columns using normal distribution\n",
    "# fit on X_train and not on X_test to avoid Data Leakage\n",
    "s = StandardScaler()\n",
    "X_train = s.fit_transform(X_train)\n",
    "X_test = s.transform(X_test)"
   ]
  },
  {
   "cell_type": "code",
   "execution_count": 5,
   "metadata": {
    "colab": {},
    "colab_type": "code",
    "id": "8qnflIdzXG0T"
   },
   "outputs": [],
   "source": [
    "cl = SoftmaxClassifier()\n",
    "\n",
    "# train on X_train and not on X_test to avoid overfitting\n",
    "train_p = cl.fit_predict(X_train,y_train)\n",
    "test_p = cl.predict(X_test)"
   ]
  },
  {
   "cell_type": "markdown",
   "metadata": {
    "colab_type": "text",
    "id": "hFt-r3nQXG0V"
   },
   "source": [
    "Si vous obtenez des valeurs relativement proches pour l'ensemble de test et d'entrainement, et qu'elles sont au moins supérieures à 0.8, votre modèle devrait être correct"
   ]
  },
  {
   "cell_type": "code",
   "execution_count": 6,
   "metadata": {
    "colab": {},
    "colab_type": "code",
    "id": "GmqcqadpXG0W"
   },
   "outputs": [
    {
     "name": "stdout",
     "output_type": "stream",
     "text": [
      "train : (0.962121212121212, 0.961624649859944, 0.9613445378151262, None)\n",
      "test : (0.9791666666666666, 0.9791666666666666, 0.978494623655914, None)\n"
     ]
    }
   ],
   "source": [
    "from sklearn.metrics import precision_recall_fscore_support\n",
    "\n",
    "# display precision, recall and f1-score on train/test set\n",
    "print(\"train : \"+ str(precision_recall_fscore_support(y_train, train_p,average = \"macro\")))\n",
    "print(\"test : \"+ str(precision_recall_fscore_support(y_test, test_p,average = \"macro\")))"
   ]
  },
  {
   "cell_type": "markdown",
   "metadata": {
    "colab_type": "text",
    "id": "r3FmllqgXG0d"
   },
   "source": [
    "# 2. Data preprocessing (6 points)\n",
    "\n",
    "##  Kaggle \n",
    "Kaggle est un site dédié au machine learning. On y retrouve un grand nombre de dataset.\n",
    "Des compétitions sont organisées par des organisations. Ces dernières fournissent un dataset et un objectif. Les \"kagglers\" qui participent à ces compétitions soumettent leurs résultats en ligne. Il y a souvent des prix ou des emplois pour ceux qui obtiennent les meilleurs résultats.\n",
    "\n",
    "Il s'agit d'un bon moyen pour développer ses compétences en machine learning sur des vrais datasets.\n",
    "\n",
    "Vous devez créer un compte et formez une équipe sur Kaggle: https://www.kaggle.com/. La compétition pour le TP se trouve à l'adresse suivante: https://www.kaggle.com/c/tp3-inf8215-a19.\n",
    "\n",
    "\n",
    "## Income dataset\n",
    "Le dataset que nous utiliserons est le \"Income dataset\" disponible sur le site de la compétition. C'est une version modifiée du dataset \"Adult\" de UCI qui se trouve à cette adresse: https://archive.ics.uci.edu/ml/datasets/Adult.\n",
    "\n",
    "Il s'agit d'un problème de **classification binaire** du salaire de la personne. Le but est de prédire dans quel catégorie ils appartiennent:\n",
    "* $\\lt=50K$\n",
    "* $\\gt50K$\n",
    "\n",
    "Pour plus d'informations sur les données, lisez la description sur kaggle.\n",
    "\n",
    "## Déroulement d'un projet de machine learning\n",
    "\n",
    "Le but de la suite de ce TP est de vous faire étudier une version simplifiée d'un projet complet de machine learning:\n",
    "\n",
    "1. Nettoyage des données, traitement des valeurs manquantes\n",
    "2. Mise en forme des données pour pouvoir les utiliser dans les algorithmes de machine learning\n",
    "3. Feature engineering: transformation ou combinaison de features entre elles\n",
    "4. Comparaison des performances des différents choix effectués lors du traîtement des données\n",
    "5. Comparaison des performances de différents modèles (dont celui implémenté en première partie)\n",
    "6. Optimisation des hyper-paramètres\n",
    "\n",
    "## Scikit-learn\n",
    "http://scikit-learn.org/stable/\n",
    "\n",
    "Il s'agit d'une bibliothèque de machine learning et data mining, elle propose des outils pour l'analyse et le traîtement des données,  des algorithmes classiques de machine learning comme les réseaux de neuronnes, la régression logistique, les SVM ou autre, enfin des outils permettant de comparer les modèles entre eux comme la cross validation.\n",
    "\n",
    "## Pandas\n",
    "\n",
    "Une bibliothèque permettant de stocker des données et de les manipuler facilement\n",
    "\n",
    "Les deux éléments de base de pandas sont le dataframe et la serie.\n",
    "\n",
    "https://pandas.pydata.org/pandas-docs/version/0.23/generated/pandas.DataFrame.html\n",
    "\n",
    "## Data processing tutorial\n",
    "\n",
    "**Avant de continuer le TP**, familiarisez-vous avec le **pré-traitement des données**, **pandas** et **scikit-learn**, un tutoriel est disponible dans le fichier: **data_processing_tutorial.ipynb**"
   ]
  },
  {
   "cell_type": "markdown",
   "metadata": {
    "colab_type": "text",
    "id": "uJxSGCnOXG0e"
   },
   "source": [
    "## Dataset\n",
    "\n",
    "#### Chargement de l'ensemble d'entraînement et de l'ensemble de test"
   ]
  },
  {
   "cell_type": "code",
   "execution_count": 7,
   "metadata": {
    "colab": {},
    "colab_type": "code",
    "id": "KrmSiTseXG0f"
   },
   "outputs": [],
   "source": [
    "import pandas as pd\n",
    "\n",
    "PATH = \"dataTP3/\" # changer le path avec votre path\n",
    "X_train = pd.read_csv(PATH + \"train.csv\")\n",
    "X_test = pd.read_csv(PATH + \"test.csv\")"
   ]
  },
  {
   "cell_type": "markdown",
   "metadata": {
    "colab_type": "text",
    "id": "996_M0-sXG0w"
   },
   "source": [
    "#### 5 premiers exemples de l'ensemble d'entraînement"
   ]
  },
  {
   "cell_type": "code",
   "execution_count": 28,
   "metadata": {
    "colab": {},
    "colab_type": "code",
    "id": "s2U3Xs73-rDr"
   },
   "outputs": [
    {
     "data": {
      "text/plain": [
       " Prof-specialty       0.127953\n",
       " Craft-repair         0.125569\n",
       " Exec-managerial      0.123736\n",
       " Adm-clerical         0.114323\n",
       " Sales                0.111634\n",
       " Other-service        0.100480\n",
       " Machine-op-inspct    0.061791\n",
       " ?                    0.057238\n",
       " Transport-moving     0.049231\n",
       " Handlers-cleaners    0.043272\n",
       " Farming-fishing      0.030285\n",
       " Tech-support         0.029918\n",
       " Protective-serv      0.019405\n",
       " Priv-house-serv      0.004828\n",
       " Armed-Forces         0.000336\n",
       "Name: Occupation, dtype: float64"
      ]
     },
     "execution_count": 28,
     "metadata": {},
     "output_type": "execute_result"
    }
   ],
   "source": [
    "X_train.head()\n",
    "(X_train[\"Occupation\"].value_counts()/len(X_train))[:30]"
   ]
  },
  {
   "cell_type": "markdown",
   "metadata": {
    "colab_type": "text",
    "id": "kSM01gVZXG0z"
   },
   "source": [
    "#### 5 premiers exemples de l'ensemble de test"
   ]
  },
  {
   "cell_type": "code",
   "execution_count": 18,
   "metadata": {
    "colab": {},
    "colab_type": "code",
    "id": "UMVNvQ9yXG00"
   },
   "outputs": [
    {
     "data": {
      "text/plain": [
       "(32723, 14)"
      ]
     },
     "execution_count": 18,
     "metadata": {},
     "output_type": "execute_result"
    }
   ],
   "source": [
    "X_test.head()\n"
   ]
  },
  {
   "cell_type": "markdown",
   "metadata": {
    "colab_type": "text",
    "id": "vli9bS98XG04"
   },
   "source": [
    "#### 5 premiers exemples de l'attribut à prédire"
   ]
  },
  {
   "cell_type": "code",
   "execution_count": 10,
   "metadata": {
    "colab": {},
    "colab_type": "code",
    "id": "HlgNDI3BXG05"
   },
   "outputs": [
    {
     "data": {
      "text/plain": [
       "0      >50K.\n",
       "1       >50K\n",
       "2     <=50K.\n",
       "3       >50K\n",
       "4      <=50K\n",
       "Name: Income, dtype: object"
      ]
     },
     "execution_count": 10,
     "metadata": {},
     "output_type": "execute_result"
    }
   ],
   "source": [
    "y_train = X_train['Income']\n",
    "y_train.head()"
   ]
  },
  {
   "cell_type": "markdown",
   "metadata": {
    "colab_type": "text",
    "id": "qkm_PxPOXG08"
   },
   "source": [
    "## Travail demandé\n",
    "\n",
    "En vous appuyant sur le tutoriel fourni, vous devez écrire un pipeline complet de transformation pour chacune des colonnes du dataset.\n",
    "\n",
    "Vous êtes **libres** de vos choix, mais vous devez les **justifer** colonne par colonne.\n",
    "Par exemple, vous pouvez choisir de combiner des colonnes entre elles, de séparer une colonne en plusieurs ou encore d'éliminer complètement une colonne si vous le justifiez correctement.\n"
   ]
  },
  {
   "cell_type": "markdown",
   "metadata": {
    "colab_type": "text",
    "id": "HOX3V-pbBNYm"
   },
   "source": [
    "####  2.1 Preprocessing (3 points)\n",
    "\n",
    "Vous devez justifier toutes les transformations que vous faites sur les données pour faciliter l'utilisation des données lors de l'entraînement du modèle. Vous pouvez justifier avec de la logique ou des preuves numériques. **Attention de ne pas tomber dans le piège du overfitting**.\n",
    "\n",
    "**ATTENTION** Vous devez avoir un meilleur score que le baseline pour le classement privé pour avoir votre point au complet pour la partie 2.1. Ce score est une bonne mesure pour savoir si votre traitement est correct.\n",
    "\n",
    "1. Justifier tous les choix de traitements que vous faites ici."
   ]
  },
  {
   "cell_type": "markdown",
   "metadata": {
    "colab_type": "text",
    "id": "bjKBBvUMLpFD"
   },
   "source": [
    "\n",
    "Colonne(s) | Traitement | Justification |\n",
    " :---: | :---: | :---: |\n",
    " index | Je l'enlève complètement. | Aucun effet sur l'income |\n",
    " Age | Normalisation | Considéré comme une variable continue |\n",
    " Workclass | Partitionnement en 4 catégories | Trop de valeurs discrètes possibles |\n",
    " Final weight | Normalisation | Considéré comme une variable continue |\n",
    " Education | Conversion en 16 catégories binaires | Variable textuelle catégorielle |\n",
    " Marital-status | Conversion en 7 catégories binaires | Variable textuelle catégorielle |\n",
    " Occupation | Conversion en 15 catégories binaires | Variable textuelle catégorielle |\n",
    " Relationship | Je l'enlève complètement. | Redondant avec Marital-status + Sex |\n",
    " Sex | Conversion en valeurs entières (0 ou 1) | Variable binaire textuelle |\n",
    " Capital-gain | Normalisation | Considéré comme une variable continue |\n",
    " Capital-loss | Normalisation | Considéré comme une variable continue |\n",
    " Hours per week | Normalisation | Considéré comme une variable continue |\n",
    " Native country | Partitionnement en 2 catégories | Trop de valeurs discrètes possibles |\n",
    " "
   ]
  },
  {
   "cell_type": "markdown",
   "metadata": {
    "colab_type": "text",
    "id": "ssOZnxpIXG1K"
   },
   "source": [
    "### 2.2 Pipeline (3 points)\n",
    "Pour faciliter le processus du traitement de données, une pipeline est utilisée. Cela permet de rapidement modifier les transformations appliquées sur l'ensemble de données.\n",
    "\n",
    "#### Implémentation\n",
    "1. Implémenter et associer vos méthodes de traitements a des pipelines.\n",
    "2. Mettez tous vos pipelines dans le ColumnTransformer."
   ]
  },
  {
   "cell_type": "code",
   "execution_count": 11,
   "metadata": {
    "colab": {},
    "colab_type": "code",
    "id": "7jD82yEyW8PQ"
   },
   "outputs": [],
   "source": [
    "from sklearn.base import BaseEstimator, TransformerMixin\n",
    "## Wrapper pour vous aider pour les pipelines\n",
    "class TransformationWrapper(BaseEstimator,TransformerMixin):\n",
    "    \n",
    "    def __init__(self,fitation= None, transformation = None): \n",
    "        \n",
    "        self.transformation = transformation\n",
    "        self.fitation = fitation\n",
    "        \n",
    "    \n",
    "        \n",
    "    def fit(self, X, y=None):\n",
    "        X = pd.DataFrame(X)\n",
    "        self.data_ = None\n",
    "        self.column_name_ = X.columns[0]\n",
    "        if self.fitation == None:\n",
    "            return self\n",
    "        \n",
    "        self.data_ = [self.fitation(X[self.column_name_])]\n",
    "        return self  \n",
    "    \n",
    "    def transform(self, X, y=None): \n",
    "        X = pd.DataFrame(X)\n",
    "        \n",
    "        if self.data_ != None:\n",
    "            return pd.DataFrame(X.apply(\n",
    "                lambda row: pd.Series( self.transformation(row[self.column_name_], self.data_)),\n",
    "                axis = 1\n",
    "            ))\n",
    "        else:\n",
    "            return pd.DataFrame(X.apply(\n",
    "                lambda row: pd.Series( self.transformation(row[self.column_name_])),\n",
    "                axis = 1\n",
    "            ))\n",
    "        \n",
    "        \n",
    "from sklearn.preprocessing import LabelEncoder\n",
    "class LabelEncoderP(LabelEncoder):\n",
    "    def fit(self, X, y=None):\n",
    "        super(LabelEncoderP, self).fit(X)\n",
    "    def transform(self, X, y=None):\n",
    "        return pd.DataFrame(super(LabelEncoderP, self).transform(X))\n",
    "    def fit_transform(self, X, y=None):\n",
    "        return super(LabelEncoderP, self).fit(X).transform(X)"
   ]
  },
  {
   "cell_type": "code",
   "execution_count": 12,
   "metadata": {
    "colab": {},
    "colab_type": "code",
    "id": "QgJNaKhbE1RB"
   },
   "outputs": [],
   "source": [
    "# Implémenter ici les différentes transformations customs ici pour que cela soit plus claires (Si vous en avez)\n",
    "def parse_workclass(text):\n",
    "    wordList = text.split(\"-\")\n",
    "    #print(wordList)\n",
    "    output = \"Other\"\n",
    "    if(wordList[0] == \" Self\"):\n",
    "        output = \"Self-employed\"\n",
    "    elif(wordList[0] == \" Private\"):\n",
    "        output = \"Private\"\n",
    "    elif(len(wordList) > 1):\n",
    "        if(wordList[1] == \"gov\"):\n",
    "            output = \"Government\"\n",
    "    return output\n",
    "\n",
    "def parse_country(text):\n",
    "    if text!=\" United-States\":\n",
    "        return \"Other\"\n",
    "    else:\n",
    "        return text"
   ]
  },
  {
   "cell_type": "code",
   "execution_count": 29,
   "metadata": {
    "colab": {},
    "colab_type": "code",
    "id": "N97zWoWQXG1K"
   },
   "outputs": [],
   "source": [
    "from sklearn.pipeline import Pipeline, FeatureUnion\n",
    "from sklearn.compose import ColumnTransformer\n",
    "from sklearn.impute import SimpleImputer\n",
    "from sklearn.preprocessing import OneHotEncoder\n",
    "\n",
    "pipeline_feature1 = Pipeline([\n",
    "    (\"name\", TransformationWrapper()),\n",
    "])\n",
    "\n",
    "\n",
    "# numerical\n",
    "pipeline_numerical = Pipeline([\n",
    "    (\"fillna\", SimpleImputer(strategy = 'mean') ),\n",
    "    (\"scaler\", StandardScaler())\n",
    "])\n",
    "\n",
    "#textual\n",
    "pipeline_workclass = Pipeline([\n",
    "    (\"fill\", SimpleImputer(strategy = 'constant', fill_value = \"Other\")),\n",
    "    ('Workclass', TransformationWrapper(transformation = parse_workclass)),\n",
    "    (\"encode\",LabelEncoderP()),\n",
    "    (\"OHencode\",OneHotEncoder(categories = 'auto', sparse = False))\n",
    "])\n",
    "\n",
    "pipeline_education = Pipeline([\n",
    "    (\"fill\", SimpleImputer(strategy = 'constant', fill_value = \"Unknown\")),\n",
    "    (\"encode\",LabelEncoderP()),\n",
    "    (\"OHencode\",OneHotEncoder(categories = 'auto', sparse = False))\n",
    "])\n",
    "\n",
    "pipeline_maritalstatus = Pipeline([\n",
    "    (\"fill\", SimpleImputer(strategy = 'constant', fill_value = \"Unknown\")),\n",
    "    (\"encode\",LabelEncoderP()),\n",
    "    (\"OHencode\",OneHotEncoder(categories = 'auto', sparse = False))\n",
    "])\n",
    "\n",
    "pipeline_occupation = Pipeline([\n",
    "    (\"fill\", SimpleImputer(strategy = 'constant', fill_value = \"Unknown\")),\n",
    "    (\"encode\",LabelEncoderP()),\n",
    "    (\"OHencode\",OneHotEncoder(categories = 'auto', sparse = False))\n",
    "])\n",
    "\n",
    "pipeline_sex = Pipeline([\n",
    "    #(\"fill\", SimpleImputer(strategy = 'constant', fill_value = \"Other\")),\n",
    "    (\"encode\",LabelEncoderP())\n",
    "])\n",
    "\n",
    "pipeline_country = Pipeline([\n",
    "    (\"fill\", SimpleImputer(strategy = 'constant', fill_value = \"Other\")),\n",
    "    ('country', TransformationWrapper(transformation = parse_country)),\n",
    "    (\"encode\",LabelEncoderP()),\n",
    "])\n",
    "\n",
    "\n",
    "\n",
    "full_pipeline = ColumnTransformer([\n",
    "        #(\"feature1\", pipeline_feature1, [\"Feature1\"]),\n",
    "        # (\"feature2\", pipeline_feature2, [\"Feature2\"]),\n",
    "        (\"Age\", pipeline_numerical, [\"Age\"]),\n",
    "        (\"Workclass\", pipeline_workclass, [\"Workclass\"]),\n",
    "        (\"Final weight\", pipeline_numerical, [\"Final weight\"]),\n",
    "        (\"Sex\", pipeline_sex, [\"Sex\"]),\n",
    "        (\"Capital-gain\", pipeline_numerical, [\"Capital-gain\"]),\n",
    "        (\"Capital-loss\", pipeline_numerical, [\"Capital-loss\"]),\n",
    "        (\"Hours per week\", pipeline_numerical, [\"Hours per week\"]),\n",
    "        (\"Native country\", pipeline_country, [\"Native country\"]),\n",
    "        (\"Education\", pipeline_education, [\"Education\"]),\n",
    "        (\"Marital-status\", pipeline_maritalstatus, [\"Marital-status\"]),\n",
    "        (\"Occupation\", pipeline_occupation, [\"Occupation\"])\n",
    "    ])"
   ]
  },
  {
   "cell_type": "markdown",
   "metadata": {
    "colab_type": "text",
    "id": "TcprzRziXG1Q"
   },
   "source": [
    "Lancez le pipeline"
   ]
  },
  {
   "cell_type": "code",
   "execution_count": 30,
   "metadata": {
    "colab": {},
    "colab_type": "code",
    "id": "1YAV0fTfXG1R"
   },
   "outputs": [
    {
     "name": "stderr",
     "output_type": "stream",
     "text": [
      "C:\\Users\\julie\\.julia\\conda\\3\\lib\\site-packages\\sklearn\\preprocessing\\label.py:219: DataConversionWarning: A column-vector y was passed when a 1d array was expected. Please change the shape of y to (n_samples, ), for example using ravel().\n",
      "  y = column_or_1d(y, warn=True)\n",
      "C:\\Users\\julie\\.julia\\conda\\3\\lib\\site-packages\\sklearn\\preprocessing\\label.py:252: DataConversionWarning: A column-vector y was passed when a 1d array was expected. Please change the shape of y to (n_samples, ), for example using ravel().\n",
      "  y = column_or_1d(y, warn=True)\n",
      "C:\\Users\\julie\\.julia\\conda\\3\\lib\\site-packages\\sklearn\\preprocessing\\label.py:219: DataConversionWarning: A column-vector y was passed when a 1d array was expected. Please change the shape of y to (n_samples, ), for example using ravel().\n",
      "  y = column_or_1d(y, warn=True)\n",
      "C:\\Users\\julie\\.julia\\conda\\3\\lib\\site-packages\\sklearn\\preprocessing\\label.py:252: DataConversionWarning: A column-vector y was passed when a 1d array was expected. Please change the shape of y to (n_samples, ), for example using ravel().\n",
      "  y = column_or_1d(y, warn=True)\n",
      "C:\\Users\\julie\\.julia\\conda\\3\\lib\\site-packages\\sklearn\\preprocessing\\label.py:219: DataConversionWarning: A column-vector y was passed when a 1d array was expected. Please change the shape of y to (n_samples, ), for example using ravel().\n",
      "  y = column_or_1d(y, warn=True)\n",
      "C:\\Users\\julie\\.julia\\conda\\3\\lib\\site-packages\\sklearn\\preprocessing\\label.py:252: DataConversionWarning: A column-vector y was passed when a 1d array was expected. Please change the shape of y to (n_samples, ), for example using ravel().\n",
      "  y = column_or_1d(y, warn=True)\n",
      "C:\\Users\\julie\\.julia\\conda\\3\\lib\\site-packages\\sklearn\\preprocessing\\label.py:219: DataConversionWarning: A column-vector y was passed when a 1d array was expected. Please change the shape of y to (n_samples, ), for example using ravel().\n",
      "  y = column_or_1d(y, warn=True)\n",
      "C:\\Users\\julie\\.julia\\conda\\3\\lib\\site-packages\\sklearn\\preprocessing\\label.py:252: DataConversionWarning: A column-vector y was passed when a 1d array was expected. Please change the shape of y to (n_samples, ), for example using ravel().\n",
      "  y = column_or_1d(y, warn=True)\n",
      "C:\\Users\\julie\\.julia\\conda\\3\\lib\\site-packages\\sklearn\\preprocessing\\label.py:219: DataConversionWarning: A column-vector y was passed when a 1d array was expected. Please change the shape of y to (n_samples, ), for example using ravel().\n",
      "  y = column_or_1d(y, warn=True)\n",
      "C:\\Users\\julie\\.julia\\conda\\3\\lib\\site-packages\\sklearn\\preprocessing\\label.py:252: DataConversionWarning: A column-vector y was passed when a 1d array was expected. Please change the shape of y to (n_samples, ), for example using ravel().\n",
      "  y = column_or_1d(y, warn=True)\n",
      "C:\\Users\\julie\\.julia\\conda\\3\\lib\\site-packages\\sklearn\\preprocessing\\label.py:219: DataConversionWarning: A column-vector y was passed when a 1d array was expected. Please change the shape of y to (n_samples, ), for example using ravel().\n",
      "  y = column_or_1d(y, warn=True)\n",
      "C:\\Users\\julie\\.julia\\conda\\3\\lib\\site-packages\\sklearn\\preprocessing\\label.py:252: DataConversionWarning: A column-vector y was passed when a 1d array was expected. Please change the shape of y to (n_samples, ), for example using ravel().\n",
      "  y = column_or_1d(y, warn=True)\n",
      "C:\\Users\\julie\\.julia\\conda\\3\\lib\\site-packages\\sklearn\\preprocessing\\label.py:219: DataConversionWarning: A column-vector y was passed when a 1d array was expected. Please change the shape of y to (n_samples, ), for example using ravel().\n",
      "  y = column_or_1d(y, warn=True)\n",
      "C:\\Users\\julie\\.julia\\conda\\3\\lib\\site-packages\\sklearn\\preprocessing\\label.py:252: DataConversionWarning: A column-vector y was passed when a 1d array was expected. Please change the shape of y to (n_samples, ), for example using ravel().\n",
      "  y = column_or_1d(y, warn=True)\n",
      "C:\\Users\\julie\\.julia\\conda\\3\\lib\\site-packages\\sklearn\\preprocessing\\label.py:219: DataConversionWarning: A column-vector y was passed when a 1d array was expected. Please change the shape of y to (n_samples, ), for example using ravel().\n",
      "  y = column_or_1d(y, warn=True)\n",
      "C:\\Users\\julie\\.julia\\conda\\3\\lib\\site-packages\\sklearn\\preprocessing\\label.py:252: DataConversionWarning: A column-vector y was passed when a 1d array was expected. Please change the shape of y to (n_samples, ), for example using ravel().\n",
      "  y = column_or_1d(y, warn=True)\n",
      "C:\\Users\\julie\\.julia\\conda\\3\\lib\\site-packages\\sklearn\\preprocessing\\label.py:219: DataConversionWarning: A column-vector y was passed when a 1d array was expected. Please change the shape of y to (n_samples, ), for example using ravel().\n",
      "  y = column_or_1d(y, warn=True)\n",
      "C:\\Users\\julie\\.julia\\conda\\3\\lib\\site-packages\\sklearn\\preprocessing\\label.py:252: DataConversionWarning: A column-vector y was passed when a 1d array was expected. Please change the shape of y to (n_samples, ), for example using ravel().\n",
      "  y = column_or_1d(y, warn=True)\n",
      "C:\\Users\\julie\\.julia\\conda\\3\\lib\\site-packages\\sklearn\\preprocessing\\label.py:219: DataConversionWarning: A column-vector y was passed when a 1d array was expected. Please change the shape of y to (n_samples, ), for example using ravel().\n",
      "  y = column_or_1d(y, warn=True)\n",
      "C:\\Users\\julie\\.julia\\conda\\3\\lib\\site-packages\\sklearn\\preprocessing\\label.py:252: DataConversionWarning: A column-vector y was passed when a 1d array was expected. Please change the shape of y to (n_samples, ), for example using ravel().\n",
      "  y = column_or_1d(y, warn=True)\n",
      "C:\\Users\\julie\\.julia\\conda\\3\\lib\\site-packages\\sklearn\\preprocessing\\label.py:219: DataConversionWarning: A column-vector y was passed when a 1d array was expected. Please change the shape of y to (n_samples, ), for example using ravel().\n",
      "  y = column_or_1d(y, warn=True)\n",
      "C:\\Users\\julie\\.julia\\conda\\3\\lib\\site-packages\\sklearn\\preprocessing\\label.py:252: DataConversionWarning: A column-vector y was passed when a 1d array was expected. Please change the shape of y to (n_samples, ), for example using ravel().\n",
      "  y = column_or_1d(y, warn=True)\n",
      "C:\\Users\\julie\\.julia\\conda\\3\\lib\\site-packages\\sklearn\\preprocessing\\label.py:219: DataConversionWarning: A column-vector y was passed when a 1d array was expected. Please change the shape of y to (n_samples, ), for example using ravel().\n",
      "  y = column_or_1d(y, warn=True)\n",
      "C:\\Users\\julie\\.julia\\conda\\3\\lib\\site-packages\\sklearn\\preprocessing\\label.py:252: DataConversionWarning: A column-vector y was passed when a 1d array was expected. Please change the shape of y to (n_samples, ), for example using ravel().\n",
      "  y = column_or_1d(y, warn=True)\n"
     ]
    },
    {
     "data": {
      "text/html": [
       "<div>\n",
       "<style scoped>\n",
       "    .dataframe tbody tr th:only-of-type {\n",
       "        vertical-align: middle;\n",
       "    }\n",
       "\n",
       "    .dataframe tbody tr th {\n",
       "        vertical-align: top;\n",
       "    }\n",
       "\n",
       "    .dataframe thead th {\n",
       "        text-align: right;\n",
       "    }\n",
       "</style>\n",
       "<table border=\"1\" class=\"dataframe\">\n",
       "  <thead>\n",
       "    <tr style=\"text-align: right;\">\n",
       "      <th></th>\n",
       "      <th>Age</th>\n",
       "      <th>Workclass1</th>\n",
       "      <th>Workclass2</th>\n",
       "      <th>Workclass3</th>\n",
       "      <th>Workclass4</th>\n",
       "      <th>Final weight</th>\n",
       "      <th>Sex</th>\n",
       "      <th>Capital-gain</th>\n",
       "      <th>Capital-loss</th>\n",
       "      <th>Hours per week</th>\n",
       "      <th>...</th>\n",
       "      <th>Occupation6</th>\n",
       "      <th>Occupation7</th>\n",
       "      <th>Occupation8</th>\n",
       "      <th>Occupation9</th>\n",
       "      <th>Occupation10</th>\n",
       "      <th>Occupation11</th>\n",
       "      <th>Occupation12</th>\n",
       "      <th>Occupation13</th>\n",
       "      <th>Occupation14</th>\n",
       "      <th>Occupation15</th>\n",
       "    </tr>\n",
       "  </thead>\n",
       "  <tbody>\n",
       "    <tr>\n",
       "      <th>0</th>\n",
       "      <td>-0.190154</td>\n",
       "      <td>0.0</td>\n",
       "      <td>0.0</td>\n",
       "      <td>1.0</td>\n",
       "      <td>0.0</td>\n",
       "      <td>-1.503257</td>\n",
       "      <td>1.0</td>\n",
       "      <td>-0.146117</td>\n",
       "      <td>-0.218564</td>\n",
       "      <td>0.774580</td>\n",
       "      <td>...</td>\n",
       "      <td>0.0</td>\n",
       "      <td>0.0</td>\n",
       "      <td>0.0</td>\n",
       "      <td>0.0</td>\n",
       "      <td>0.0</td>\n",
       "      <td>0.0</td>\n",
       "      <td>0.0</td>\n",
       "      <td>0.0</td>\n",
       "      <td>0.0</td>\n",
       "      <td>0.0</td>\n",
       "    </tr>\n",
       "    <tr>\n",
       "      <th>1</th>\n",
       "      <td>0.974165</td>\n",
       "      <td>0.0</td>\n",
       "      <td>1.0</td>\n",
       "      <td>0.0</td>\n",
       "      <td>0.0</td>\n",
       "      <td>-0.285780</td>\n",
       "      <td>1.0</td>\n",
       "      <td>-0.146117</td>\n",
       "      <td>-0.218564</td>\n",
       "      <td>0.774580</td>\n",
       "      <td>...</td>\n",
       "      <td>0.0</td>\n",
       "      <td>0.0</td>\n",
       "      <td>0.0</td>\n",
       "      <td>0.0</td>\n",
       "      <td>0.0</td>\n",
       "      <td>0.0</td>\n",
       "      <td>0.0</td>\n",
       "      <td>0.0</td>\n",
       "      <td>0.0</td>\n",
       "      <td>0.0</td>\n",
       "    </tr>\n",
       "    <tr>\n",
       "      <th>2</th>\n",
       "      <td>-0.190154</td>\n",
       "      <td>0.0</td>\n",
       "      <td>0.0</td>\n",
       "      <td>1.0</td>\n",
       "      <td>0.0</td>\n",
       "      <td>1.598580</td>\n",
       "      <td>1.0</td>\n",
       "      <td>-0.146117</td>\n",
       "      <td>-0.218564</td>\n",
       "      <td>-0.030764</td>\n",
       "      <td>...</td>\n",
       "      <td>0.0</td>\n",
       "      <td>0.0</td>\n",
       "      <td>0.0</td>\n",
       "      <td>0.0</td>\n",
       "      <td>0.0</td>\n",
       "      <td>0.0</td>\n",
       "      <td>0.0</td>\n",
       "      <td>0.0</td>\n",
       "      <td>0.0</td>\n",
       "      <td>0.0</td>\n",
       "    </tr>\n",
       "    <tr>\n",
       "      <th>3</th>\n",
       "      <td>0.246465</td>\n",
       "      <td>0.0</td>\n",
       "      <td>0.0</td>\n",
       "      <td>0.0</td>\n",
       "      <td>1.0</td>\n",
       "      <td>-0.012838</td>\n",
       "      <td>1.0</td>\n",
       "      <td>-0.146117</td>\n",
       "      <td>-0.218564</td>\n",
       "      <td>1.579923</td>\n",
       "      <td>...</td>\n",
       "      <td>0.0</td>\n",
       "      <td>0.0</td>\n",
       "      <td>0.0</td>\n",
       "      <td>0.0</td>\n",
       "      <td>0.0</td>\n",
       "      <td>0.0</td>\n",
       "      <td>0.0</td>\n",
       "      <td>1.0</td>\n",
       "      <td>0.0</td>\n",
       "      <td>0.0</td>\n",
       "    </tr>\n",
       "    <tr>\n",
       "      <th>4</th>\n",
       "      <td>0.392005</td>\n",
       "      <td>0.0</td>\n",
       "      <td>0.0</td>\n",
       "      <td>1.0</td>\n",
       "      <td>0.0</td>\n",
       "      <td>-1.383261</td>\n",
       "      <td>1.0</td>\n",
       "      <td>-0.146117</td>\n",
       "      <td>-0.218564</td>\n",
       "      <td>0.613511</td>\n",
       "      <td>...</td>\n",
       "      <td>0.0</td>\n",
       "      <td>0.0</td>\n",
       "      <td>0.0</td>\n",
       "      <td>1.0</td>\n",
       "      <td>0.0</td>\n",
       "      <td>0.0</td>\n",
       "      <td>0.0</td>\n",
       "      <td>0.0</td>\n",
       "      <td>0.0</td>\n",
       "      <td>0.0</td>\n",
       "    </tr>\n",
       "  </tbody>\n",
       "</table>\n",
       "<p>5 rows × 49 columns</p>\n",
       "</div>"
      ],
      "text/plain": [
       "        Age  Workclass1  Workclass2  Workclass3  Workclass4  Final weight  \\\n",
       "0 -0.190154         0.0         0.0         1.0         0.0     -1.503257   \n",
       "1  0.974165         0.0         1.0         0.0         0.0     -0.285780   \n",
       "2 -0.190154         0.0         0.0         1.0         0.0      1.598580   \n",
       "3  0.246465         0.0         0.0         0.0         1.0     -0.012838   \n",
       "4  0.392005         0.0         0.0         1.0         0.0     -1.383261   \n",
       "\n",
       "   Sex  Capital-gain  Capital-loss  Hours per week      ...       Occupation6  \\\n",
       "0  1.0     -0.146117     -0.218564        0.774580      ...               0.0   \n",
       "1  1.0     -0.146117     -0.218564        0.774580      ...               0.0   \n",
       "2  1.0     -0.146117     -0.218564       -0.030764      ...               0.0   \n",
       "3  1.0     -0.146117     -0.218564        1.579923      ...               0.0   \n",
       "4  1.0     -0.146117     -0.218564        0.613511      ...               0.0   \n",
       "\n",
       "   Occupation7  Occupation8  Occupation9  Occupation10  Occupation11  \\\n",
       "0          0.0          0.0          0.0           0.0           0.0   \n",
       "1          0.0          0.0          0.0           0.0           0.0   \n",
       "2          0.0          0.0          0.0           0.0           0.0   \n",
       "3          0.0          0.0          0.0           0.0           0.0   \n",
       "4          0.0          0.0          1.0           0.0           0.0   \n",
       "\n",
       "   Occupation12  Occupation13  Occupation14  Occupation15  \n",
       "0           0.0           0.0           0.0           0.0  \n",
       "1           0.0           0.0           0.0           0.0  \n",
       "2           0.0           0.0           0.0           0.0  \n",
       "3           0.0           1.0           0.0           0.0  \n",
       "4           0.0           0.0           0.0           0.0  \n",
       "\n",
       "[5 rows x 49 columns]"
      ]
     },
     "execution_count": 30,
     "metadata": {},
     "output_type": "execute_result"
    }
   ],
   "source": [
    "column_names = [\"Age\", \"Workclass1\", \"Workclass2\", \"Workclass3\", \"Workclass4\", \"Final weight\", \"Sex\", \"Capital-gain\", \"Capital-loss\", \"Hours per week\", \"Native country\", \"Education1\", \"Education2\", \"Education3\", \"Education4\", \"Education5\", \"Education6\", \"Education7\", \"Education8\", \"Education9\", \"Education10\", \"Education11\", \"Education12\", \"Education13\", \"Education14\", \"Education15\", \"Education16\", \"Marital-status1\", \"Marital-status2\", \"Marital-status3\", \"Marital-status4\", \"Marital-status5\", \"Marital-status6\", \"Marital-status7\", \"Occupation1\", \"Occupation2\", \"Occupation3\", \"Occupation4\", \"Occupation5\", \"Occupation6\", \"Occupation7\", \"Occupation8\", \"Occupation9\", \"Occupation10\", \"Occupation11\", \"Occupation12\", \"Occupation13\", \"Occupation14\", \"Occupation15\"] # TODO ajouter les noms des colonnes selon le nouvel ordre du pipeline\n",
    "X_train_preprocess = pd.DataFrame(full_pipeline.fit_transform(X_train), columns=column_names)\n",
    "X_test_preprocess = pd.DataFrame(full_pipeline.fit_transform(X_test), columns=column_names)\n",
    "\n",
    "X_train_preprocess.head()"
   ]
  },
  {
   "cell_type": "code",
   "execution_count": 31,
   "metadata": {},
   "outputs": [
    {
     "data": {
      "text/plain": [
       "0.0    0.897962\n",
       "1.0    0.102038\n",
       "Name: Native country, dtype: float64"
      ]
     },
     "execution_count": 31,
     "metadata": {},
     "output_type": "execute_result"
    }
   ],
   "source": [
    "(X_train_preprocess[\"Native country\"].value_counts()/len(X_train_preprocess))[:10]"
   ]
  },
  {
   "cell_type": "markdown",
   "metadata": {
    "colab_type": "text",
    "id": "jZWQoaa2XG1Z"
   },
   "source": [
    "# 3. Model selection (2 points)"
   ]
  },
  {
   "cell_type": "markdown",
   "metadata": {
    "colab_type": "text",
    "id": "JxwJyM9gXG1Z"
   },
   "source": [
    "Encodage de la classe cible sous forme d'entiers pour l'utiliser\n",
    "avec les algorithmes de scikit-learn. Vous devez avoir 2 classes."
   ]
  },
  {
   "cell_type": "code",
   "execution_count": 33,
   "metadata": {
    "colab": {},
    "colab_type": "code",
    "id": "mXfDgss4XG1a"
   },
   "outputs": [
    {
     "name": "stdout",
     "output_type": "stream",
     "text": [
      "[' <=50K' ' >50K']\n"
     ]
    },
    {
     "name": "stderr",
     "output_type": "stream",
     "text": [
      "C:\\Users\\julie\\.julia\\conda\\3\\lib\\site-packages\\pandas\\core\\indexing.py:194: SettingWithCopyWarning: \n",
      "A value is trying to be set on a copy of a slice from a DataFrame\n",
      "\n",
      "See the caveats in the documentation: http://pandas.pydata.org/pandas-docs/stable/indexing.html#indexing-view-versus-copy\n",
      "  self._setitem_with_indexer(indexer, value)\n"
     ]
    }
   ],
   "source": [
    "from sklearn.preprocessing import LabelEncoder\n",
    "y_train.loc[y_train == ' >50K.' ] = ' >50K'\n",
    "y_train.loc[y_train == ' <=50K.'] = ' <=50K'\n",
    "target_label = LabelEncoder()\n",
    "y_train_label = target_label.fit_transform(y_train)\n",
    "print(target_label.classes_)"
   ]
  },
  {
   "cell_type": "markdown",
   "metadata": {
    "colab_type": "text",
    "id": "5ekhKj0cXG1e"
   },
   "source": [
    "## 3.1 Ensemble de validation (0.5 point)\n",
    "Pour comparer différents modèles entre eux, on ne peut pas utiliser\n",
    "l'ensemble de test, sinon on serait tenté de garder le modèle correspondant le mieux à l'ensemble de test ce qui pourrait conduire à l'overfitting.\n",
    "\n",
    "Il est d'usage de créer un nouvel ensemble de la taille de l'ensemble de test, l'ensemble de **validation**.\n",
    "\n",
    "###  Cross-validation\n",
    "\n",
    "La cross-validation est une méthode utile pour comparer la performance de différents modèles de machine learning **sans créer d'ensemble de validation**.\n",
    "\n",
    "Il existe différents types de cross-validation, la procédure la plus classique est la suivante:\n",
    "* Diviser aléatoirement l'ensemble d'entraînement en deux parties (90%/10% par exemple).\n",
    "* Entraîner le modèle sur la plus grande partie, et le tester sur l'autre partie.\n",
    "* Recommencer n fois\n",
    "* Calculer la moyenne et l'écart type des résultats\n",
    "\n",
    "Les avantages sont les suivants:\n",
    "* Considérer la totalité de l'ensemble d'entraînement pour l'évaluation (sans se priver de l'ensemble de validation)\n",
    "* Obtenir l'écart-type des résultats permet une meilleure évaluation de la précision du modèle.\n",
    "\n",
    "L'inconvénient principal est le temps de calcul, étant donné que l'on effectue l'apprentissage du modèle plusieurs fois, cette méthode peut être impossible pour des datasets contenant un grand nombre d'exemple (> 10e5)\n",
    "\n",
    "### Implémentation\n",
    "1. Implémenter la fonction `compare()`. Cette fonction effectue la crossvalidation pour différents modèles et retourne la moyenne et l'écart-type des métriques pour chaque modèle.\n",
    "\n"
   ]
  },
  {
   "cell_type": "code",
   "execution_count": 34,
   "metadata": {
    "colab": {},
    "colab_type": "code",
    "id": "WF3S-utAXG1k"
   },
   "outputs": [],
   "source": [
    "from sklearn.model_selection import cross_validate\n",
    "def compare(models,X_train,y_train,nb_runs,scoring):\n",
    "    scores = []\n",
    "    \n",
    "\n",
    "    for model in models:\n",
    "        score = cross_validate(model, X_train, y_train, scoring = scoring, cv = nb_runs)\n",
    "        scores.append(score)\n",
    "            \n",
    "    return scores"
   ]
  },
  {
   "cell_type": "markdown",
   "metadata": {
    "colab_type": "text",
    "id": "GMqcqhGxXG1j"
   },
   "source": [
    "## 3.2 Essai de modèle de sklearn (0.5 point)\n",
    "\n",
    "\n",
    "**Choisir au moins deux modèles permettant la classification binaire sur sklearn en plus du modèle implémenté dans la première partie du TP**.\n",
    "\n",
    "**En vous basant sur les différentes métriques retournées par la fonction `compare()`, concluez quant au modèle le plus performant.**\n",
    "\n",
    "Evaluez les modèles pour les différentes métriques proposées:\n",
    "* **log loss**: c'est la métrique d'évaluation de kaggle\n",
    "* **precision**: correspond à la qualité de la prédiction, le nombre de classes correctement prédites par le nombre de prédiction total\n",
    "* **recall**: le nombre d'éléments appartenant à une classe, identifiés comme tel, divisé par le nombre total des éléments de cette classe.\n",
    "* **f-score**: une moyenne de la precision et du recall\n",
    "\n",
    "**Remarque: precision et recall sont deux mesures complémentaires pour l'évaluation d'un modèle de classification.**\n",
    "\n",
    "Dans le cas d'une classification binaire avec un déséquilibre de la classe cible important, (90%/10%), en évaluant le résultat de la classification avec l'accuracy (nombre de prédictions correctes divisé par le nombre de prédictions total), on peut obtenir un très bon score (90% d'accuracy) en choisissant de prédire systématiquement la classe majoritaire.\n",
    "\n",
    "Dans un tel cas, la precision serait élevée de même, mais le recall serait très bas , nous indiquant la médiocrité de notre modèle.\n"
   ]
  },
  {
   "cell_type": "code",
   "execution_count": 36,
   "metadata": {
    "colab": {},
    "colab_type": "code",
    "id": "gSsKSE6cXG1n"
   },
   "outputs": [
    {
     "name": "stderr",
     "output_type": "stream",
     "text": [
      "C:\\Users\\julie\\.julia\\conda\\3\\lib\\site-packages\\sklearn\\model_selection\\_validation.py:530: FutureWarning: From version 0.22, errors during fit will result in a cross validation score of NaN by default. Use error_score='raise' if you want an exception raised or error_score=np.nan to adopt the behavior from version 0.22.\n",
      "  FutureWarning)\n"
     ]
    },
    {
     "ename": "ValueError",
     "evalue": "array is too big; `arr.size * arr.dtype.itemsize` is larger than the maximum possible size.",
     "output_type": "error",
     "traceback": [
      "\u001b[1;31m---------------------------------------------------------------------------\u001b[0m",
      "\u001b[1;31mValueError\u001b[0m                                Traceback (most recent call last)",
      "\u001b[1;32m<ipython-input-36-f25c42f09c16>\u001b[0m in \u001b[0;36m<module>\u001b[1;34m\u001b[0m\n\u001b[0;32m      7\u001b[0m \u001b[0mscoring\u001b[0m \u001b[1;33m=\u001b[0m \u001b[1;33m[\u001b[0m\u001b[1;34m'neg_log_loss'\u001b[0m\u001b[1;33m,\u001b[0m \u001b[1;34m'precision_macro'\u001b[0m\u001b[1;33m,\u001b[0m\u001b[1;34m'recall_macro'\u001b[0m\u001b[1;33m,\u001b[0m\u001b[1;34m'f1_macro'\u001b[0m\u001b[1;33m]\u001b[0m\u001b[1;33m\u001b[0m\u001b[0m\n\u001b[0;32m      8\u001b[0m \u001b[1;33m\u001b[0m\u001b[0m\n\u001b[1;32m----> 9\u001b[1;33m \u001b[0mcompare\u001b[0m\u001b[1;33m(\u001b[0m\u001b[0mmodels\u001b[0m\u001b[1;33m,\u001b[0m \u001b[0mX_train_preprocess\u001b[0m\u001b[1;33m,\u001b[0m \u001b[0my_train_label\u001b[0m\u001b[1;33m,\u001b[0m \u001b[0mnb_run\u001b[0m\u001b[1;33m,\u001b[0m \u001b[0mscoring\u001b[0m\u001b[1;33m)\u001b[0m\u001b[1;33m\u001b[0m\u001b[0m\n\u001b[0m",
      "\u001b[1;32m<ipython-input-34-c509372d3804>\u001b[0m in \u001b[0;36mcompare\u001b[1;34m(models, X_train, y_train, nb_runs, scoring)\u001b[0m\n\u001b[0;32m      5\u001b[0m \u001b[1;33m\u001b[0m\u001b[0m\n\u001b[0;32m      6\u001b[0m     \u001b[1;32mfor\u001b[0m \u001b[0mmodel\u001b[0m \u001b[1;32min\u001b[0m \u001b[0mmodels\u001b[0m\u001b[1;33m:\u001b[0m\u001b[1;33m\u001b[0m\u001b[0m\n\u001b[1;32m----> 7\u001b[1;33m         \u001b[0mscore\u001b[0m \u001b[1;33m=\u001b[0m \u001b[0mcross_validate\u001b[0m\u001b[1;33m(\u001b[0m\u001b[0mmodel\u001b[0m\u001b[1;33m,\u001b[0m \u001b[0mX_train\u001b[0m\u001b[1;33m,\u001b[0m \u001b[0my_train\u001b[0m\u001b[1;33m,\u001b[0m \u001b[0mscoring\u001b[0m \u001b[1;33m=\u001b[0m \u001b[0mscoring\u001b[0m\u001b[1;33m,\u001b[0m \u001b[0mcv\u001b[0m \u001b[1;33m=\u001b[0m \u001b[0mnb_runs\u001b[0m\u001b[1;33m)\u001b[0m\u001b[1;33m\u001b[0m\u001b[0m\n\u001b[0m\u001b[0;32m      8\u001b[0m         \u001b[0mscores\u001b[0m\u001b[1;33m.\u001b[0m\u001b[0mappend\u001b[0m\u001b[1;33m(\u001b[0m\u001b[0mscore\u001b[0m\u001b[1;33m)\u001b[0m\u001b[1;33m\u001b[0m\u001b[0m\n\u001b[0;32m      9\u001b[0m \u001b[1;33m\u001b[0m\u001b[0m\n",
      "\u001b[1;32m~\\.julia\\conda\\3\\lib\\site-packages\\sklearn\\model_selection\\_validation.py\u001b[0m in \u001b[0;36mcross_validate\u001b[1;34m(estimator, X, y, groups, scoring, cv, n_jobs, verbose, fit_params, pre_dispatch, return_train_score, return_estimator, error_score)\u001b[0m\n\u001b[0;32m    230\u001b[0m             \u001b[0mreturn_times\u001b[0m\u001b[1;33m=\u001b[0m\u001b[1;32mTrue\u001b[0m\u001b[1;33m,\u001b[0m \u001b[0mreturn_estimator\u001b[0m\u001b[1;33m=\u001b[0m\u001b[0mreturn_estimator\u001b[0m\u001b[1;33m,\u001b[0m\u001b[1;33m\u001b[0m\u001b[0m\n\u001b[0;32m    231\u001b[0m             error_score=error_score)\n\u001b[1;32m--> 232\u001b[1;33m         for train, test in cv.split(X, y, groups))\n\u001b[0m\u001b[0;32m    233\u001b[0m \u001b[1;33m\u001b[0m\u001b[0m\n\u001b[0;32m    234\u001b[0m     \u001b[0mzipped_scores\u001b[0m \u001b[1;33m=\u001b[0m \u001b[0mlist\u001b[0m\u001b[1;33m(\u001b[0m\u001b[0mzip\u001b[0m\u001b[1;33m(\u001b[0m\u001b[1;33m*\u001b[0m\u001b[0mscores\u001b[0m\u001b[1;33m)\u001b[0m\u001b[1;33m)\u001b[0m\u001b[1;33m\u001b[0m\u001b[0m\n",
      "\u001b[1;32m~\\.julia\\conda\\3\\lib\\site-packages\\joblib\\parallel.py\u001b[0m in \u001b[0;36m__call__\u001b[1;34m(self, iterable)\u001b[0m\n\u001b[0;32m   1001\u001b[0m             \u001b[1;31m# remaining jobs.\u001b[0m\u001b[1;33m\u001b[0m\u001b[1;33m\u001b[0m\u001b[0m\n\u001b[0;32m   1002\u001b[0m             \u001b[0mself\u001b[0m\u001b[1;33m.\u001b[0m\u001b[0m_iterating\u001b[0m \u001b[1;33m=\u001b[0m \u001b[1;32mFalse\u001b[0m\u001b[1;33m\u001b[0m\u001b[0m\n\u001b[1;32m-> 1003\u001b[1;33m             \u001b[1;32mif\u001b[0m \u001b[0mself\u001b[0m\u001b[1;33m.\u001b[0m\u001b[0mdispatch_one_batch\u001b[0m\u001b[1;33m(\u001b[0m\u001b[0miterator\u001b[0m\u001b[1;33m)\u001b[0m\u001b[1;33m:\u001b[0m\u001b[1;33m\u001b[0m\u001b[0m\n\u001b[0m\u001b[0;32m   1004\u001b[0m                 \u001b[0mself\u001b[0m\u001b[1;33m.\u001b[0m\u001b[0m_iterating\u001b[0m \u001b[1;33m=\u001b[0m \u001b[0mself\u001b[0m\u001b[1;33m.\u001b[0m\u001b[0m_original_iterator\u001b[0m \u001b[1;32mis\u001b[0m \u001b[1;32mnot\u001b[0m \u001b[1;32mNone\u001b[0m\u001b[1;33m\u001b[0m\u001b[0m\n\u001b[0;32m   1005\u001b[0m \u001b[1;33m\u001b[0m\u001b[0m\n",
      "\u001b[1;32m~\\.julia\\conda\\3\\lib\\site-packages\\joblib\\parallel.py\u001b[0m in \u001b[0;36mdispatch_one_batch\u001b[1;34m(self, iterator)\u001b[0m\n\u001b[0;32m    832\u001b[0m                 \u001b[1;32mreturn\u001b[0m \u001b[1;32mFalse\u001b[0m\u001b[1;33m\u001b[0m\u001b[0m\n\u001b[0;32m    833\u001b[0m             \u001b[1;32melse\u001b[0m\u001b[1;33m:\u001b[0m\u001b[1;33m\u001b[0m\u001b[0m\n\u001b[1;32m--> 834\u001b[1;33m                 \u001b[0mself\u001b[0m\u001b[1;33m.\u001b[0m\u001b[0m_dispatch\u001b[0m\u001b[1;33m(\u001b[0m\u001b[0mtasks\u001b[0m\u001b[1;33m)\u001b[0m\u001b[1;33m\u001b[0m\u001b[0m\n\u001b[0m\u001b[0;32m    835\u001b[0m                 \u001b[1;32mreturn\u001b[0m \u001b[1;32mTrue\u001b[0m\u001b[1;33m\u001b[0m\u001b[0m\n\u001b[0;32m    836\u001b[0m \u001b[1;33m\u001b[0m\u001b[0m\n",
      "\u001b[1;32m~\\.julia\\conda\\3\\lib\\site-packages\\joblib\\parallel.py\u001b[0m in \u001b[0;36m_dispatch\u001b[1;34m(self, batch)\u001b[0m\n\u001b[0;32m    751\u001b[0m         \u001b[1;32mwith\u001b[0m \u001b[0mself\u001b[0m\u001b[1;33m.\u001b[0m\u001b[0m_lock\u001b[0m\u001b[1;33m:\u001b[0m\u001b[1;33m\u001b[0m\u001b[0m\n\u001b[0;32m    752\u001b[0m             \u001b[0mjob_idx\u001b[0m \u001b[1;33m=\u001b[0m \u001b[0mlen\u001b[0m\u001b[1;33m(\u001b[0m\u001b[0mself\u001b[0m\u001b[1;33m.\u001b[0m\u001b[0m_jobs\u001b[0m\u001b[1;33m)\u001b[0m\u001b[1;33m\u001b[0m\u001b[0m\n\u001b[1;32m--> 753\u001b[1;33m             \u001b[0mjob\u001b[0m \u001b[1;33m=\u001b[0m \u001b[0mself\u001b[0m\u001b[1;33m.\u001b[0m\u001b[0m_backend\u001b[0m\u001b[1;33m.\u001b[0m\u001b[0mapply_async\u001b[0m\u001b[1;33m(\u001b[0m\u001b[0mbatch\u001b[0m\u001b[1;33m,\u001b[0m \u001b[0mcallback\u001b[0m\u001b[1;33m=\u001b[0m\u001b[0mcb\u001b[0m\u001b[1;33m)\u001b[0m\u001b[1;33m\u001b[0m\u001b[0m\n\u001b[0m\u001b[0;32m    754\u001b[0m             \u001b[1;31m# A job can complete so quickly than its callback is\u001b[0m\u001b[1;33m\u001b[0m\u001b[1;33m\u001b[0m\u001b[0m\n\u001b[0;32m    755\u001b[0m             \u001b[1;31m# called before we get here, causing self._jobs to\u001b[0m\u001b[1;33m\u001b[0m\u001b[1;33m\u001b[0m\u001b[0m\n",
      "\u001b[1;32m~\\.julia\\conda\\3\\lib\\site-packages\\joblib\\_parallel_backends.py\u001b[0m in \u001b[0;36mapply_async\u001b[1;34m(self, func, callback)\u001b[0m\n\u001b[0;32m    199\u001b[0m     \u001b[1;32mdef\u001b[0m \u001b[0mapply_async\u001b[0m\u001b[1;33m(\u001b[0m\u001b[0mself\u001b[0m\u001b[1;33m,\u001b[0m \u001b[0mfunc\u001b[0m\u001b[1;33m,\u001b[0m \u001b[0mcallback\u001b[0m\u001b[1;33m=\u001b[0m\u001b[1;32mNone\u001b[0m\u001b[1;33m)\u001b[0m\u001b[1;33m:\u001b[0m\u001b[1;33m\u001b[0m\u001b[0m\n\u001b[0;32m    200\u001b[0m         \u001b[1;34m\"\"\"Schedule a func to be run\"\"\"\u001b[0m\u001b[1;33m\u001b[0m\u001b[0m\n\u001b[1;32m--> 201\u001b[1;33m         \u001b[0mresult\u001b[0m \u001b[1;33m=\u001b[0m \u001b[0mImmediateResult\u001b[0m\u001b[1;33m(\u001b[0m\u001b[0mfunc\u001b[0m\u001b[1;33m)\u001b[0m\u001b[1;33m\u001b[0m\u001b[0m\n\u001b[0m\u001b[0;32m    202\u001b[0m         \u001b[1;32mif\u001b[0m \u001b[0mcallback\u001b[0m\u001b[1;33m:\u001b[0m\u001b[1;33m\u001b[0m\u001b[0m\n\u001b[0;32m    203\u001b[0m             \u001b[0mcallback\u001b[0m\u001b[1;33m(\u001b[0m\u001b[0mresult\u001b[0m\u001b[1;33m)\u001b[0m\u001b[1;33m\u001b[0m\u001b[0m\n",
      "\u001b[1;32m~\\.julia\\conda\\3\\lib\\site-packages\\joblib\\_parallel_backends.py\u001b[0m in \u001b[0;36m__init__\u001b[1;34m(self, batch)\u001b[0m\n\u001b[0;32m    580\u001b[0m         \u001b[1;31m# Don't delay the application, to avoid keeping the input\u001b[0m\u001b[1;33m\u001b[0m\u001b[1;33m\u001b[0m\u001b[0m\n\u001b[0;32m    581\u001b[0m         \u001b[1;31m# arguments in memory\u001b[0m\u001b[1;33m\u001b[0m\u001b[1;33m\u001b[0m\u001b[0m\n\u001b[1;32m--> 582\u001b[1;33m         \u001b[0mself\u001b[0m\u001b[1;33m.\u001b[0m\u001b[0mresults\u001b[0m \u001b[1;33m=\u001b[0m \u001b[0mbatch\u001b[0m\u001b[1;33m(\u001b[0m\u001b[1;33m)\u001b[0m\u001b[1;33m\u001b[0m\u001b[0m\n\u001b[0m\u001b[0;32m    583\u001b[0m \u001b[1;33m\u001b[0m\u001b[0m\n\u001b[0;32m    584\u001b[0m     \u001b[1;32mdef\u001b[0m \u001b[0mget\u001b[0m\u001b[1;33m(\u001b[0m\u001b[0mself\u001b[0m\u001b[1;33m)\u001b[0m\u001b[1;33m:\u001b[0m\u001b[1;33m\u001b[0m\u001b[0m\n",
      "\u001b[1;32m~\\.julia\\conda\\3\\lib\\site-packages\\joblib\\parallel.py\u001b[0m in \u001b[0;36m__call__\u001b[1;34m(self)\u001b[0m\n\u001b[0;32m    254\u001b[0m         \u001b[1;32mwith\u001b[0m \u001b[0mparallel_backend\u001b[0m\u001b[1;33m(\u001b[0m\u001b[0mself\u001b[0m\u001b[1;33m.\u001b[0m\u001b[0m_backend\u001b[0m\u001b[1;33m,\u001b[0m \u001b[0mn_jobs\u001b[0m\u001b[1;33m=\u001b[0m\u001b[0mself\u001b[0m\u001b[1;33m.\u001b[0m\u001b[0m_n_jobs\u001b[0m\u001b[1;33m)\u001b[0m\u001b[1;33m:\u001b[0m\u001b[1;33m\u001b[0m\u001b[0m\n\u001b[0;32m    255\u001b[0m             return [func(*args, **kwargs)\n\u001b[1;32m--> 256\u001b[1;33m                     for func, args, kwargs in self.items]\n\u001b[0m\u001b[0;32m    257\u001b[0m \u001b[1;33m\u001b[0m\u001b[0m\n\u001b[0;32m    258\u001b[0m     \u001b[1;32mdef\u001b[0m \u001b[0m__len__\u001b[0m\u001b[1;33m(\u001b[0m\u001b[0mself\u001b[0m\u001b[1;33m)\u001b[0m\u001b[1;33m:\u001b[0m\u001b[1;33m\u001b[0m\u001b[0m\n",
      "\u001b[1;32m~\\.julia\\conda\\3\\lib\\site-packages\\joblib\\parallel.py\u001b[0m in \u001b[0;36m<listcomp>\u001b[1;34m(.0)\u001b[0m\n\u001b[0;32m    254\u001b[0m         \u001b[1;32mwith\u001b[0m \u001b[0mparallel_backend\u001b[0m\u001b[1;33m(\u001b[0m\u001b[0mself\u001b[0m\u001b[1;33m.\u001b[0m\u001b[0m_backend\u001b[0m\u001b[1;33m,\u001b[0m \u001b[0mn_jobs\u001b[0m\u001b[1;33m=\u001b[0m\u001b[0mself\u001b[0m\u001b[1;33m.\u001b[0m\u001b[0m_n_jobs\u001b[0m\u001b[1;33m)\u001b[0m\u001b[1;33m:\u001b[0m\u001b[1;33m\u001b[0m\u001b[0m\n\u001b[0;32m    255\u001b[0m             return [func(*args, **kwargs)\n\u001b[1;32m--> 256\u001b[1;33m                     for func, args, kwargs in self.items]\n\u001b[0m\u001b[0;32m    257\u001b[0m \u001b[1;33m\u001b[0m\u001b[0m\n\u001b[0;32m    258\u001b[0m     \u001b[1;32mdef\u001b[0m \u001b[0m__len__\u001b[0m\u001b[1;33m(\u001b[0m\u001b[0mself\u001b[0m\u001b[1;33m)\u001b[0m\u001b[1;33m:\u001b[0m\u001b[1;33m\u001b[0m\u001b[0m\n",
      "\u001b[1;32m~\\.julia\\conda\\3\\lib\\site-packages\\sklearn\\model_selection\\_validation.py\u001b[0m in \u001b[0;36m_fit_and_score\u001b[1;34m(estimator, X, y, scorer, train, test, verbose, parameters, fit_params, return_train_score, return_parameters, return_n_test_samples, return_times, return_estimator, error_score)\u001b[0m\n\u001b[0;32m    514\u001b[0m             \u001b[0mestimator\u001b[0m\u001b[1;33m.\u001b[0m\u001b[0mfit\u001b[0m\u001b[1;33m(\u001b[0m\u001b[0mX_train\u001b[0m\u001b[1;33m,\u001b[0m \u001b[1;33m**\u001b[0m\u001b[0mfit_params\u001b[0m\u001b[1;33m)\u001b[0m\u001b[1;33m\u001b[0m\u001b[0m\n\u001b[0;32m    515\u001b[0m         \u001b[1;32melse\u001b[0m\u001b[1;33m:\u001b[0m\u001b[1;33m\u001b[0m\u001b[0m\n\u001b[1;32m--> 516\u001b[1;33m             \u001b[0mestimator\u001b[0m\u001b[1;33m.\u001b[0m\u001b[0mfit\u001b[0m\u001b[1;33m(\u001b[0m\u001b[0mX_train\u001b[0m\u001b[1;33m,\u001b[0m \u001b[0my_train\u001b[0m\u001b[1;33m,\u001b[0m \u001b[1;33m**\u001b[0m\u001b[0mfit_params\u001b[0m\u001b[1;33m)\u001b[0m\u001b[1;33m\u001b[0m\u001b[0m\n\u001b[0m\u001b[0;32m    517\u001b[0m \u001b[1;33m\u001b[0m\u001b[0m\n\u001b[0;32m    518\u001b[0m     \u001b[1;32mexcept\u001b[0m \u001b[0mException\u001b[0m \u001b[1;32mas\u001b[0m \u001b[0me\u001b[0m\u001b[1;33m:\u001b[0m\u001b[1;33m\u001b[0m\u001b[0m\n",
      "\u001b[1;32m<ipython-input-1-c1bdda2a9a90>\u001b[0m in \u001b[0;36mfit\u001b[1;34m(self, X, y)\u001b[0m\n\u001b[0;32m     58\u001b[0m             \u001b[0mprobabilities\u001b[0m \u001b[1;33m=\u001b[0m \u001b[0mself\u001b[0m\u001b[1;33m.\u001b[0m\u001b[0mpredict_proba\u001b[0m\u001b[1;33m(\u001b[0m\u001b[0mX\u001b[0m\u001b[1;33m)\u001b[0m\u001b[1;33m\u001b[0m\u001b[0m\n\u001b[0;32m     59\u001b[0m \u001b[1;33m\u001b[0m\u001b[0m\n\u001b[1;32m---> 60\u001b[1;33m             \u001b[0mloss\u001b[0m \u001b[1;33m=\u001b[0m \u001b[0mself\u001b[0m\u001b[1;33m.\u001b[0m\u001b[0m_cost_function\u001b[0m\u001b[1;33m(\u001b[0m\u001b[0mprobabilities\u001b[0m\u001b[1;33m,\u001b[0m\u001b[0my\u001b[0m\u001b[1;33m)\u001b[0m\u001b[1;33m\u001b[0m\u001b[0m\n\u001b[0m\u001b[0;32m     61\u001b[0m \u001b[1;33m\u001b[0m\u001b[0m\n\u001b[0;32m     62\u001b[0m             \u001b[0mgradient\u001b[0m \u001b[1;33m=\u001b[0m \u001b[0mself\u001b[0m\u001b[1;33m.\u001b[0m\u001b[0m_get_gradient\u001b[0m\u001b[1;33m(\u001b[0m\u001b[0mX_bias\u001b[0m\u001b[1;33m,\u001b[0m\u001b[0my\u001b[0m\u001b[1;33m,\u001b[0m \u001b[0mprobabilities\u001b[0m\u001b[1;33m)\u001b[0m\u001b[1;33m\u001b[0m\u001b[0m\n",
      "\u001b[1;32m<ipython-input-1-c1bdda2a9a90>\u001b[0m in \u001b[0;36m_cost_function\u001b[1;34m(self, probabilities, y)\u001b[0m\n\u001b[0;32m    134\u001b[0m         \u001b[0myohe\u001b[0m \u001b[1;33m=\u001b[0m \u001b[0mself\u001b[0m\u001b[1;33m.\u001b[0m\u001b[0m_one_hot\u001b[0m\u001b[1;33m(\u001b[0m\u001b[0my\u001b[0m\u001b[1;33m)\u001b[0m\u001b[1;33m\u001b[0m\u001b[0m\n\u001b[0;32m    135\u001b[0m \u001b[1;33m\u001b[0m\u001b[0m\n\u001b[1;32m--> 136\u001b[1;33m         \u001b[0mJ\u001b[0m \u001b[1;33m=\u001b[0m \u001b[1;33m(\u001b[0m\u001b[1;33m-\u001b[0m\u001b[1;36m1\u001b[0m\u001b[1;33m/\u001b[0m\u001b[0mm\u001b[0m\u001b[1;33m)\u001b[0m\u001b[1;33m*\u001b[0m\u001b[0mnp\u001b[0m\u001b[1;33m.\u001b[0m\u001b[0msum\u001b[0m\u001b[1;33m(\u001b[0m\u001b[0mnp\u001b[0m\u001b[1;33m.\u001b[0m\u001b[0mlog\u001b[0m\u001b[1;33m(\u001b[0m\u001b[0mprobabilities\u001b[0m\u001b[1;33m)\u001b[0m\u001b[1;33m.\u001b[0m\u001b[0mdot\u001b[0m\u001b[1;33m(\u001b[0m\u001b[0mnp\u001b[0m\u001b[1;33m.\u001b[0m\u001b[0mtranspose\u001b[0m\u001b[1;33m(\u001b[0m\u001b[0myohe\u001b[0m\u001b[1;33m)\u001b[0m\u001b[1;33m)\u001b[0m\u001b[1;33m)\u001b[0m\u001b[1;33m\u001b[0m\u001b[0m\n\u001b[0m\u001b[0;32m    137\u001b[0m \u001b[1;33m\u001b[0m\u001b[0m\n\u001b[0;32m    138\u001b[0m         \u001b[1;32mreturn\u001b[0m \u001b[0mJ\u001b[0m\u001b[1;33m\u001b[0m\u001b[0m\n",
      "\u001b[1;31mValueError\u001b[0m: array is too big; `arr.size * arr.dtype.itemsize` is larger than the maximum possible size."
     ]
    }
   ],
   "source": [
    "nb_run = 3\n",
    "\n",
    "models = [\n",
    "    SoftmaxClassifier(), # le modele que vous avez implémenté plus haut\n",
    "]\n",
    "\n",
    "scoring = ['neg_log_loss', 'precision_macro','recall_macro','f1_macro']\n",
    "\n",
    "compare(models, X_train_preprocess, y_train_label, nb_run, scoring)"
   ]
  },
  {
   "cell_type": "markdown",
   "metadata": {
    "colab_type": "text",
    "id": "kutzIhLu1frH"
   },
   "source": [
    "Justification pour le meilleur modèle\n",
    "\n",
    "**Blablablabla**"
   ]
  },
  {
   "cell_type": "markdown",
   "metadata": {
    "colab_type": "text",
    "id": "_th8iyQ2XG1u"
   },
   "source": [
    "## 3.3 Matrice de confusion (0.5 point)\n",
    "\n",
    "La matrice de confusion A est telle que $A_{i,j}$ correspond au nombre d'exemples de la classe i classifié comme appartenant à la classe j.\n",
    "\n",
    "Entrainez le modèle sélectionné sur la totalité de l'ensemble d'entraînement.\n",
    "A l'aide de la matrice de confusion et de la distribution des classes, analysez plus en détail les performances du modèle choisi et **justifiez** les."
   ]
  },
  {
   "cell_type": "code",
   "execution_count": 0,
   "metadata": {
    "colab": {},
    "colab_type": "code",
    "id": "k_jCDj02XG1v"
   },
   "outputs": [],
   "source": [
    "# Train selected model\n",
    "\n",
    "selected_model = \n",
    "y_pred = selected_model.fit_predict(X_train_preprocess,y_train_label)"
   ]
  },
  {
   "cell_type": "markdown",
   "metadata": {
    "colab_type": "text",
    "id": "ncXnd9W4XG1-"
   },
   "source": [
    "###### Matrice de confusion"
   ]
  },
  {
   "cell_type": "code",
   "execution_count": 0,
   "metadata": {
    "colab": {},
    "colab_type": "code",
    "id": "fV5tkE0bXG1_"
   },
   "outputs": [],
   "source": [
    "from sklearn.metrics import confusion_matrix\n",
    "pd.DataFrame(confusion_matrix(y_train_label, y_pred), columns = target_label.classes_, index = target_label.classes_)"
   ]
  },
  {
   "cell_type": "markdown",
   "metadata": {
    "colab_type": "text",
    "id": "2HyBqtMjXG2B"
   },
   "source": [
    "###### Distribution des classes"
   ]
  },
  {
   "cell_type": "code",
   "execution_count": 0,
   "metadata": {
    "colab": {},
    "colab_type": "code",
    "id": "Z_emYEYKXG2B"
   },
   "outputs": [],
   "source": [
    "import matplotlib.pyplot as plt \n",
    "print(target_label.classes_)\n",
    "pd.Series(y_train_label).hist()"
   ]
  },
  {
   "cell_type": "markdown",
   "metadata": {
    "colab_type": "text",
    "id": "ee-L7b131tf3"
   },
   "source": [
    "Justification avec la matrice de confusion et la distribution des classes\n",
    "\n",
    "**Blablablablablablabla**"
   ]
  },
  {
   "cell_type": "markdown",
   "metadata": {
    "colab_type": "text",
    "id": "5lfReUdgXG2I"
   },
   "source": [
    "## 3.4 Soumission (0.5 point)\n",
    "\n",
    "Enfin, effectuez la prédiction sur l'ensemble de test et joignez les résultats au rendu du TP. Vous devez soumettre vos résultats sur kaggle. Vous pouvez choisir jusqu'à deux modèles. Par défaut, les deux dernières soumissions sont prises. La justification (les section 3.2 et 3.3) sont seulement demandée pour le meilleur modèle selon vous.\n",
    "\n",
    "**ATTENTION:** N'oubliez pas de respecter le format du fichier de soumission. En cas d'erreur, Kaggle score 0.0 pour la soumission."
   ]
  },
  {
   "cell_type": "code",
   "execution_count": 0,
   "metadata": {
    "colab": {},
    "colab_type": "code",
    "id": "-deVgNIpXG2J"
   },
   "outputs": [],
   "source": [
    "# best_model_1 = \n",
    "# pred_test = pd.Series(best_model_1.transform(X_test_preprocess))\n",
    "# pred_test.to_csv(\"test_prediction_1.csv\",index = False)\n",
    "\n",
    "# best_model_2 = \n",
    "# pred_test = pd.Series(best_model_2.transform(X_test_preprocess))\n",
    "# pred_test.to_csv(\"test_prediction_2.csv\",index = False)"
   ]
  }
 ],
 "metadata": {
  "colab": {
   "collapsed_sections": [],
   "name": "TP3_INF8215.ipynb",
   "provenance": [],
   "toc_visible": true
  },
  "kernelspec": {
   "display_name": "Python 3",
   "language": "python",
   "name": "python3"
  },
  "language_info": {
   "codemirror_mode": {
    "name": "ipython",
    "version": 3
   },
   "file_extension": ".py",
   "mimetype": "text/x-python",
   "name": "python",
   "nbconvert_exporter": "python",
   "pygments_lexer": "ipython3",
   "version": "3.6.5"
  }
 },
 "nbformat": 4,
 "nbformat_minor": 1
}
